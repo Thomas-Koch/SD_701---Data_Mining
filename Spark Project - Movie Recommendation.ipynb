{
 "cells": [
  {
   "cell_type": "markdown",
   "metadata": {},
   "source": [
    "--------------------------------\n",
    "# <center>- Spark Project - SD 701 - Data Mining-</center>\n",
    "\n",
    "* https://spark.apache.org/docs/2.1.0/ml-classification-regression.html\n",
    "* https://spark.apache.org/docs/latest/mllib-collaborative-filtering.html\n",
    "* https://spark.apache.org/docs/2.2.0/ml-collaborative-filtering.html"
   ]
  },
  {
   "cell_type": "markdown",
   "metadata": {},
   "source": [
    "----------------------------\n",
    "* https://medium.com/@patelneha1495/recommendation-system-in-python-using-als-algorithm-and-apache-spark-27aca08eaab3\n",
    "* https://towardsdatascience.com/prototyping-a-recommender-system-step-by-step-part-2-alternating-least-square-als-matrix-4a76c58714a1\n",
    "\n",
    "----------------------------------"
   ]
  },
  {
   "cell_type": "code",
   "execution_count": 2,
   "metadata": {},
   "outputs": [],
   "source": [
    "import pyspark\n",
    "#from pyspark import SparkConf, SparkContext\n",
    "\n",
    "#from pyspark.ml.classification import LogisticRegression\n",
    "#from pyspark.ml.regression import LinearRegression\n",
    "\n",
    "from pyspark.sql import Row, SparkSession\n",
    "\n",
    "from pyspark.ml.evaluation import RegressionEvaluator\n",
    "from pyspark.ml.recommendation import ALS\n"
   ]
  },
  {
   "cell_type": "markdown",
   "metadata": {},
   "source": [
    "### 1. Initialisation de la session spark"
   ]
  },
  {
   "cell_type": "code",
   "execution_count": 3,
   "metadata": {},
   "outputs": [],
   "source": [
    "# set up environment\n",
    "#conf = SparkConf() \\\n",
    "#    .setAppName(\"MovieLensALS\") \\\n",
    "#    .set(\"spark.executor.memory\", \"2g\")\n",
    "#sc = SparkContext(conf=conf)\n",
    "\n",
    "spark = SparkSession.builder.appName('Recommendation_system').getOrCreate()"
   ]
  },
  {
   "cell_type": "markdown",
   "metadata": {},
   "source": [
    "### 2. Chargement et préparation des données d'évaluations des films"
   ]
  },
  {
   "cell_type": "code",
   "execution_count": 4,
   "metadata": {},
   "outputs": [
    {
     "name": "stdout",
     "output_type": "stream",
     "text": [
      "+------+-------+------+---------+\n",
      "|userId|movieId|rating|timestamp|\n",
      "+------+-------+------+---------+\n",
      "|     1|      1|   4.0|964982703|\n",
      "|     1|      3|   4.0|964981247|\n",
      "|     1|      6|   4.0|964982224|\n",
      "|     1|     47|   5.0|964983815|\n",
      "|     1|     50|   5.0|964982931|\n",
      "|     1|     70|   3.0|964982400|\n",
      "|     1|    101|   5.0|964980868|\n",
      "|     1|    110|   4.0|964982176|\n",
      "|     1|    151|   5.0|964984041|\n",
      "|     1|    157|   5.0|964984100|\n",
      "+------+-------+------+---------+\n",
      "only showing top 10 rows\n",
      "\n"
     ]
    }
   ],
   "source": [
    "path_data = \"/home/p5hngk/Downloads/GitHub/SD_701---Data_Mining/ml-latest-small\"\n",
    "\n",
    "df_ratings = spark.read.format(\"csv\").option(\"header\", \"true\").load(path_data+\"/ratings.csv\")\n",
    "df_ratings.show(10)"
   ]
  },
  {
   "cell_type": "code",
   "execution_count": 5,
   "metadata": {},
   "outputs": [
    {
     "name": "stdout",
     "output_type": "stream",
     "text": [
      "+------+-------+------+\n",
      "|userId|movieId|rating|\n",
      "+------+-------+------+\n",
      "|     1|      1|   4.0|\n",
      "|     1|      3|   4.0|\n",
      "|     1|      6|   4.0|\n",
      "|     1|     47|   5.0|\n",
      "|     1|     50|   5.0|\n",
      "|     1|     70|   3.0|\n",
      "|     1|    101|   5.0|\n",
      "|     1|    110|   4.0|\n",
      "|     1|    151|   5.0|\n",
      "|     1|    157|   5.0|\n",
      "+------+-------+------+\n",
      "only showing top 10 rows\n",
      "\n"
     ]
    }
   ],
   "source": [
    "df_ratings1 = df_ratings.select(df_ratings['userId'], df_ratings['movieId'], df_ratings['rating'])\n",
    "df_ratings1.show(10)"
   ]
  },
  {
   "cell_type": "code",
   "execution_count": 6,
   "metadata": {},
   "outputs": [
    {
     "name": "stdout",
     "output_type": "stream",
     "text": [
      "root\n",
      " |-- userId: string (nullable = true)\n",
      " |-- movieId: string (nullable = true)\n",
      " |-- rating: string (nullable = true)\n",
      "\n"
     ]
    }
   ],
   "source": [
    "df_ratings1.printSchema()"
   ]
  },
  {
   "cell_type": "markdown",
   "metadata": {},
   "source": [
    "Avant de réaliser un modèle ALS, il faut que toutes nos données soient au format integer pour pouvoir réaliser les calculs, ce qui n'est pas le cas actuellement. Occupons-nous donc dans un premier temps de changer cela ."
   ]
  },
  {
   "cell_type": "code",
   "execution_count": 7,
   "metadata": {},
   "outputs": [],
   "source": [
    "from pyspark.ml.evaluation import RegressionEvaluator\n",
    "from pyspark.ml.recommendation import ALS"
   ]
  },
  {
   "cell_type": "code",
   "execution_count": 8,
   "metadata": {},
   "outputs": [
    {
     "name": "stdout",
     "output_type": "stream",
     "text": [
      "root\n",
      " |-- userId: integer (nullable = true)\n",
      " |-- movieId: integer (nullable = true)\n",
      " |-- rating: integer (nullable = true)\n",
      "\n"
     ]
    }
   ],
   "source": [
    "from pyspark.sql.types import IntegerType\n",
    "\n",
    "df_ratings1 = df_ratings1.withColumn(\"userId\", df_ratings1[\"userId\"].cast(IntegerType())) \\\n",
    "                .withColumn(\"movieId\", df_ratings1[\"movieId\"].cast(IntegerType())) \\\n",
    "                .withColumn(\"rating\", df_ratings1[\"rating\"].cast(IntegerType()))\n",
    "\n",
    "df_ratings1.printSchema()"
   ]
  },
  {
   "cell_type": "markdown",
   "metadata": {},
   "source": [
    "### 3. Création des jeux d'entraînement et de test"
   ]
  },
  {
   "cell_type": "code",
   "execution_count": 9,
   "metadata": {},
   "outputs": [],
   "source": [
    "(training,test) = df_ratings1.randomSplit([0.8, 0.2])"
   ]
  },
  {
   "cell_type": "markdown",
   "metadata": {},
   "source": [
    "### 4. Création du modèle ALS et entraînement du modèle"
   ]
  },
  {
   "cell_type": "code",
   "execution_count": 83,
   "metadata": {},
   "outputs": [],
   "source": [
    "als = ALS(maxIter=5, regParam=0.15, rank=25, userCol = \"userId\", itemCol = \"movieId\", ratingCol = \"rating\", coldStartStrategy = \"drop\", nonnegative=True)\n",
    "model = als.fit(training)"
   ]
  },
  {
   "cell_type": "markdown",
   "metadata": {},
   "source": [
    "### 5. Evaluation du modèle"
   ]
  },
  {
   "cell_type": "code",
   "execution_count": 86,
   "metadata": {},
   "outputs": [],
   "source": [
    "evaluator = RegressionEvaluator(metricName = \"rmse\", labelCol = \"rating\", predictionCol = \"prediction\")\n",
    "predictions = model.transform(test)\n",
    "rmse = evaluator.evaluate(predictions)"
   ]
  },
  {
   "cell_type": "code",
   "execution_count": 87,
   "metadata": {},
   "outputs": [
    {
     "name": "stdout",
     "output_type": "stream",
     "text": [
      "RMSE = 0.912\n",
      "+------+-------+------+----------+\n",
      "|userId|movieId|rating|prediction|\n",
      "+------+-------+------+----------+\n",
      "|   602|    471|     4| 3.1934433|\n",
      "|   462|    471|     2| 2.7162755|\n",
      "|   217|    471|     2| 2.7824652|\n",
      "|   171|    471|     3|  4.175868|\n",
      "|   287|    471|     4| 2.2260783|\n",
      "|   469|    471|     5| 3.3332288|\n",
      "|   307|    833|     1| 0.8265029|\n",
      "|   177|   1088|     3|   3.22892|\n",
      "|   554|   1088|     5| 3.3106422|\n",
      "|   286|   1088|     3| 2.8980076|\n",
      "+------+-------+------+----------+\n",
      "only showing top 10 rows\n",
      "\n"
     ]
    }
   ],
   "source": [
    "print(f\"RMSE = {round(rmse,3)}\")\n",
    "predictions.show(10)"
   ]
  },
  {
   "cell_type": "code",
   "execution_count": 25,
   "metadata": {},
   "outputs": [
    {
     "name": "stdout",
     "output_type": "stream",
     "text": [
      "+-------+------------------+------------------+-----------------+------------------+\n",
      "|summary|            userId|           movieId|           rating|        prediction|\n",
      "+-------+------------------+------------------+-----------------+------------------+\n",
      "|  count|             19335|             19335|            19335|             19335|\n",
      "|   mean|   324.51874838376|17180.324385828808|3.369847426945953|3.1990105139020804|\n",
      "| stddev|181.40932579600593|32340.785112503912|1.085566007162708|0.7425755555118295|\n",
      "|    min|                 1|                 1|                0|               0.0|\n",
      "|    max|               610|            187595|                5|          5.506267|\n",
      "+-------+------------------+------------------+-----------------+------------------+\n",
      "\n"
     ]
    }
   ],
   "source": [
    "predictions.describe().show()"
   ]
  },
  {
   "cell_type": "code",
   "execution_count": 32,
   "metadata": {},
   "outputs": [
    {
     "name": "stdout",
     "output_type": "stream",
     "text": [
      "+------+-------+------+----------+\n",
      "|userId|movieId|rating|prediction|\n",
      "+------+-------+------+----------+\n",
      "|     1|   3273|     5| 2.7050326|\n",
      "|     1|    441|     4| 4.5551343|\n",
      "|     1|    163|     5| 4.0466523|\n",
      "|     1|    590|     4| 4.2134485|\n",
      "|     1|   3740|     4| 4.7146983|\n",
      "|     1|   3489|     4| 3.5443125|\n",
      "|     1|   2492|     4| 3.2470827|\n",
      "|     1|   1089|     5|  4.778551|\n",
      "|     1|   2193|     4| 4.6384244|\n",
      "|     1|   1240|     5| 4.3902125|\n",
      "|     1|   2985|     4| 3.9428837|\n",
      "|     1|   2414|     3| 3.9190807|\n",
      "|     1|   3439|     4| 3.1636713|\n",
      "|     1|   1500|     4| 4.3516064|\n",
      "|     1|   2640|     4|  4.639884|\n",
      "|     1|   1777|     4| 4.0192113|\n",
      "|     1|   2542|     5|  4.635328|\n",
      "|     1|   1927|     5| 4.4290094|\n",
      "|     1|    367|     4|  3.847385|\n",
      "|     1|      3|     4|  3.852513|\n",
      "+------+-------+------+----------+\n",
      "only showing top 20 rows\n",
      "\n"
     ]
    }
   ],
   "source": [
    "predictions.orderBy(predictions.userId.asc()).show()"
   ]
  },
  {
   "cell_type": "code",
   "execution_count": null,
   "metadata": {},
   "outputs": [],
   "source": [
    "from pyspark.sql import SQLContext\n",
    "\n",
    "sqlContext = SQLContext(spark)\n",
    "predictions.registerTempTable(\"predictions_table\")"
   ]
  },
  {
   "cell_type": "code",
   "execution_count": 56,
   "metadata": {},
   "outputs": [
    {
     "name": "stdout",
     "output_type": "stream",
     "text": [
      "+------+-------+------+----------+\n",
      "|userId|movieId|rating|prediction|\n",
      "+------+-------+------+----------+\n",
      "|     1|      3|     4|  3.852513|\n",
      "|     1|     50|     5| 4.5171766|\n",
      "|     1|    163|     5| 4.0466523|\n",
      "|     1|    367|     4|  3.847385|\n",
      "|     1|    441|     4| 4.5551343|\n",
      "|     1|    457|     5| 4.4773464|\n",
      "|     1|    480|     4|  4.376313|\n",
      "|     1|    527|     5|  4.645906|\n",
      "|     1|    590|     4| 4.2134485|\n",
      "|     1|   1042|     4| 3.8467429|\n",
      "|     1|   1080|     5|  4.726887|\n",
      "|     1|   1089|     5|  4.778551|\n",
      "|     1|   1097|     5| 4.4196105|\n",
      "|     1|   1213|     5| 4.7464733|\n",
      "|     1|   1240|     5| 4.3902125|\n",
      "|     1|   1282|     5| 4.4678564|\n",
      "|     1|   1408|     3| 4.8702917|\n",
      "|     1|   1500|     4| 4.3516064|\n",
      "|     1|   1777|     4| 4.0192113|\n",
      "|     1|   1805|     4| 3.6425023|\n",
      "+------+-------+------+----------+\n",
      "only showing top 20 rows\n",
      "\n"
     ]
    }
   ],
   "source": [
    "sqlContext.sql('SELECT * FROM predictions_table WHERE userId = 1 ORDER BY movieId ASC').show()"
   ]
  },
  {
   "cell_type": "markdown",
   "metadata": {},
   "source": [
    "### 6. Amélioration du modèle\n",
    "\n",
    "Pouvons-nous améliorer notre modèle avec de meilleurs hyperparamètres ? Nous allons regarder ici l'influence des paramètres de régularisations (`regParams`) et le nombre de features (`ranks`) à utiliser pour notre modèle. Nous chercherons ici à minimiser le risque moyen quadratique (***RMSE***)."
   ]
  },
  {
   "cell_type": "code",
   "execution_count": 78,
   "metadata": {},
   "outputs": [],
   "source": [
    "def tune_ALS(train_data, validation_data, maxIter, regParams, ranks):\n",
    "    \"\"\"\n",
    "    grid search function to select the best model based on RMSE of\n",
    "    validation data\n",
    "    Parameters\n",
    "    ----------\n",
    "    train_data: spark DF with columns ['userId', 'movieId', 'rating']\n",
    "    \n",
    "    validation_data: spark DF with columns ['userId', 'movieId', 'rating']\n",
    "    \n",
    "    maxIter: int, max number of learning iterations\n",
    "    \n",
    "    regParams: list of float, one dimension of hyper-param tuning grid\n",
    "    \n",
    "    ranks: list of float, one dimension of hyper-param tuning grid\n",
    "    \n",
    "    Return\n",
    "    ------\n",
    "    The best fitted ALS model with lowest RMSE score on validation data\n",
    "    \"\"\"\n",
    "    # initial\n",
    "    min_error = float('inf')\n",
    "    best_rank = -1\n",
    "    best_regularization = 0\n",
    "    best_model = None\n",
    "    for rank in ranks:\n",
    "        for reg in regParams:\n",
    "            # get ALS model\n",
    "            als = ALS(userCol = \"userId\", itemCol = \"movieId\", ratingCol = \"rating\", coldStartStrategy = \"drop\", nonnegative=True).setMaxIter(maxIter).setRank(rank).setRegParam(reg)\n",
    "            # train ALS model\n",
    "            model = als.fit(train_data)\n",
    "            # evaluate the model by computing the RMSE on the validation data\n",
    "            predictions = model.transform(validation_data)\n",
    "            evaluator = RegressionEvaluator(metricName=\"rmse\",\n",
    "                                            labelCol=\"rating\",\n",
    "                                            predictionCol=\"prediction\")\n",
    "            rmse = evaluator.evaluate(predictions)\n",
    "            print('{} latent factors and regularization = {}: '\n",
    "                  'validation RMSE is {}'.format(rank, reg, rmse))\n",
    "            if rmse < min_error:\n",
    "                min_error = rmse\n",
    "                best_rank = rank\n",
    "                best_regularization = reg\n",
    "                best_model = model\n",
    "    print('\\nThe best model has {} latent factors and '\n",
    "          'regularization = {}'.format(best_rank, best_regularization))\n",
    "    return best_model"
   ]
  },
  {
   "cell_type": "code",
   "execution_count": 88,
   "metadata": {},
   "outputs": [
    {
     "name": "stdout",
     "output_type": "stream",
     "text": [
      "15 latent factors and regularization = 0.1: validation RMSE is 0.9194962266285418\n",
      "15 latent factors and regularization = 0.11: validation RMSE is 0.9158210040273436\n",
      "15 latent factors and regularization = 0.12: validation RMSE is 0.9135584134461238\n",
      "15 latent factors and regularization = 0.13: validation RMSE is 0.9122796084347585\n",
      "15 latent factors and regularization = 0.14: validation RMSE is 0.9118776751844955\n",
      "15 latent factors and regularization = 0.15: validation RMSE is 0.9121690831477112\n",
      "15 latent factors and regularization = 0.16: validation RMSE is 0.9130609447437331\n",
      "15 latent factors and regularization = 0.17: validation RMSE is 0.9144633840148606\n",
      "15 latent factors and regularization = 0.18: validation RMSE is 0.916332021519337\n",
      "15 latent factors and regularization = 0.19: validation RMSE is 0.9185967659831803\n",
      "15 latent factors and regularization = 0.2: validation RMSE is 0.9212117989211674\n",
      "20 latent factors and regularization = 0.1: validation RMSE is 0.9218943653846164\n",
      "20 latent factors and regularization = 0.11: validation RMSE is 0.9178648371184116\n",
      "20 latent factors and regularization = 0.12: validation RMSE is 0.9149396430755588\n",
      "20 latent factors and regularization = 0.13: validation RMSE is 0.9131945649475367\n",
      "20 latent factors and regularization = 0.14: validation RMSE is 0.9126073057543372\n",
      "20 latent factors and regularization = 0.15: validation RMSE is 0.9127826603408704\n",
      "20 latent factors and regularization = 0.16: validation RMSE is 0.91357843164779\n",
      "20 latent factors and regularization = 0.17: validation RMSE is 0.9148778143831218\n",
      "20 latent factors and regularization = 0.18: validation RMSE is 0.9165142329661304\n",
      "20 latent factors and regularization = 0.19: validation RMSE is 0.9184590373430903\n",
      "20 latent factors and regularization = 0.2: validation RMSE is 0.9207169752842015\n",
      "25 latent factors and regularization = 0.1: validation RMSE is 0.9180890375844571\n",
      "25 latent factors and regularization = 0.11: validation RMSE is 0.9138898459935854\n",
      "25 latent factors and regularization = 0.12: validation RMSE is 0.9112456065719224\n",
      "25 latent factors and regularization = 0.13: validation RMSE is 0.9097836704991674\n",
      "25 latent factors and regularization = 0.14: validation RMSE is 0.9093048496259449\n",
      "25 latent factors and regularization = 0.15: validation RMSE is 0.9097207305029961\n",
      "25 latent factors and regularization = 0.16: validation RMSE is 0.9107989210138937\n",
      "25 latent factors and regularization = 0.17: validation RMSE is 0.9123552055953742\n",
      "25 latent factors and regularization = 0.18: validation RMSE is 0.9143192695993957\n",
      "25 latent factors and regularization = 0.19: validation RMSE is 0.9166670458276787\n",
      "25 latent factors and regularization = 0.2: validation RMSE is 0.9193180850097694\n",
      "30 latent factors and regularization = 0.1: validation RMSE is 0.9189637274844628\n",
      "30 latent factors and regularization = 0.11: validation RMSE is 0.9152544298464053\n",
      "30 latent factors and regularization = 0.12: validation RMSE is 0.9129591598483433\n",
      "30 latent factors and regularization = 0.13: validation RMSE is 0.9119178328523173\n",
      "30 latent factors and regularization = 0.14: validation RMSE is 0.9118761398771762\n",
      "30 latent factors and regularization = 0.15: validation RMSE is 0.9125236142412834\n",
      "30 latent factors and regularization = 0.16: validation RMSE is 0.9136042108931575\n",
      "30 latent factors and regularization = 0.17: validation RMSE is 0.9149964281434589\n",
      "30 latent factors and regularization = 0.18: validation RMSE is 0.9167074883517325\n",
      "30 latent factors and regularization = 0.19: validation RMSE is 0.9187432540017847\n",
      "30 latent factors and regularization = 0.2: validation RMSE is 0.9211020197440022\n",
      "\n",
      "The best model has 25 latent factors and regularization = 0.14\n"
     ]
    },
    {
     "data": {
      "text/plain": [
       "ALS_9818eab060a0"
      ]
     },
     "execution_count": 88,
     "metadata": {},
     "output_type": "execute_result"
    }
   ],
   "source": [
    "regParams = [0.10, 0.11, 0.12, 0.13, 0.14, 0.15, 0.16, 0.17, 0.18, 0.19, 0.2]\n",
    "ranks = [15, 20, 25, 30]\n",
    "\n",
    "tune_ALS(training, test, 10, regParams, ranks)"
   ]
  },
  {
   "cell_type": "markdown",
   "metadata": {},
   "source": [
    "### 7. Création du modèle avec les meilleurs hyperparamètres"
   ]
  },
  {
   "cell_type": "code",
   "execution_count": 10,
   "metadata": {},
   "outputs": [],
   "source": [
    "best_als = ALS(maxIter=10, regParam=0.14, rank=25, userCol = \"userId\", itemCol = \"movieId\", ratingCol = \"rating\", coldStartStrategy = \"drop\", nonnegative=True)\n",
    "best_model = best_als.fit(training)"
   ]
  },
  {
   "cell_type": "code",
   "execution_count": 54,
   "metadata": {},
   "outputs": [],
   "source": [
    "evaluator = RegressionEvaluator(metricName = \"rmse\", labelCol = \"rating\", predictionCol = \"prediction\")\n",
    "predictions = best_model.transform(test)\n",
    "rmse = evaluator.evaluate(predictions)"
   ]
  },
  {
   "cell_type": "markdown",
   "metadata": {},
   "source": [
    "### 8. Evaluation du nouveau modèle"
   ]
  },
  {
   "cell_type": "code",
   "execution_count": 55,
   "metadata": {},
   "outputs": [
    {
     "name": "stdout",
     "output_type": "stream",
     "text": [
      "RMSE = 0.918\n",
      "+------+-------+------+----------+\n",
      "|userId|movieId|rating|prediction|\n",
      "+------+-------+------+----------+\n",
      "|    57|    471|     3| 3.0805037|\n",
      "|   610|    471|     4| 3.0505595|\n",
      "|   555|    471|     3|  3.372868|\n",
      "|   176|    471|     5| 3.6114209|\n",
      "|   312|    471|     4| 3.4076772|\n",
      "|   414|    471|     5|  3.238184|\n",
      "|   426|    471|     5| 3.0732331|\n",
      "|   373|    471|     5| 3.4007857|\n",
      "|   357|    471|     3|  3.180214|\n",
      "|   159|   1088|     4|  2.875018|\n",
      "+------+-------+------+----------+\n",
      "only showing top 10 rows\n",
      "\n"
     ]
    }
   ],
   "source": [
    "print(f\"RMSE = {round(rmse,3)}\")\n",
    "predictions.show(10)"
   ]
  },
  {
   "cell_type": "code",
   "execution_count": 56,
   "metadata": {},
   "outputs": [
    {
     "name": "stdout",
     "output_type": "stream",
     "text": [
      "+------+-------+------+----------+-----------------+\n",
      "|userId|movieId|rating|prediction|rating-prediction|\n",
      "+------+-------+------+----------+-----------------+\n",
      "|    57|    471|     3| 3.0805037|       -0.0805037|\n",
      "|   610|    471|     4| 3.0505595|        0.9494405|\n",
      "|   555|    471|     3|  3.372868|      -0.37286806|\n",
      "|   176|    471|     5| 3.6114209|        1.3885791|\n",
      "|   312|    471|     4| 3.4076772|        0.5923228|\n",
      "+------+-------+------+----------+-----------------+\n",
      "only showing top 5 rows\n",
      "\n"
     ]
    }
   ],
   "source": [
    "predictions = predictions.withColumn('rating-prediction', predictions.rating - predictions.prediction)\n",
    "predictions.show(5)"
   ]
  },
  {
   "cell_type": "code",
   "execution_count": 57,
   "metadata": {},
   "outputs": [
    {
     "data": {
      "text/plain": [
       "pyspark.sql.dataframe.DataFrame"
      ]
     },
     "execution_count": 57,
     "metadata": {},
     "output_type": "execute_result"
    }
   ],
   "source": [
    "type(predictions)"
   ]
  },
  {
   "cell_type": "code",
   "execution_count": 58,
   "metadata": {},
   "outputs": [
    {
     "name": "stdout",
     "output_type": "stream",
     "text": [
      "+------+-------+------+----------+-----------------+---------+\n",
      "|userId|movieId|rating|prediction|rating-prediction|good_pred|\n",
      "+------+-------+------+----------+-----------------+---------+\n",
      "|    57|    471|     3| 3.0805037|        0.0805037|        1|\n",
      "|   610|    471|     4| 3.0505595|        0.9494405|        0|\n",
      "|   555|    471|     3|  3.372868|       0.37286806|        1|\n",
      "|   176|    471|     5| 3.6114209|        1.3885791|        0|\n",
      "|   312|    471|     4| 3.4076772|        0.5923228|        0|\n",
      "+------+-------+------+----------+-----------------+---------+\n",
      "only showing top 5 rows\n",
      "\n"
     ]
    }
   ],
   "source": [
    "#from pyspark.sql.functions import udf\n",
    "#import pyspark.sql.functions as F\n",
    "#from pyspark.sql.types import *\n",
    "\n",
    "from pyspark.sql.functions import when\n",
    "\n",
    "predictions = predictions.withColumn(\"rating-prediction\", when(0 <= predictions['rating-prediction'], predictions['rating-prediction']).otherwise(predictions['rating-prediction']*(-1)))\n",
    "predictions = predictions.withColumn(\"good_pred\", when(predictions['rating-prediction'] <= 0.5, 1).otherwise(0))\n",
    "\n",
    "predictions.show(5)\n"
   ]
  },
  {
   "cell_type": "code",
   "execution_count": 59,
   "metadata": {},
   "outputs": [
    {
     "name": "stdout",
     "output_type": "stream",
     "text": [
      "+------+-------+------+----------+-----------------+---------+\n",
      "|userId|movieId|rating|prediction|rating-prediction|good_pred|\n",
      "+------+-------+------+----------+-----------------+---------+\n",
      "|    57|    471|     3| 3.0805037|        0.0805037|        1|\n",
      "|   610|    471|     4| 3.0505595|        0.9494405|        0|\n",
      "|   555|    471|     3|  3.372868|       0.37286806|        1|\n",
      "|   176|    471|     5| 3.6114209|        1.3885791|        0|\n",
      "|   312|    471|     4| 3.4076772|        0.5923228|        0|\n",
      "|   414|    471|     5|  3.238184|         1.761816|        0|\n",
      "|   426|    471|     5| 3.0732331|        1.9267669|        0|\n",
      "|   373|    471|     5| 3.4007857|        1.5992143|        0|\n",
      "|   357|    471|     3|  3.180214|       0.18021393|        1|\n",
      "|   159|   1088|     4|  2.875018|        1.1249821|        0|\n",
      "|   606|   1088|     3| 2.9591813|       0.04081869|        1|\n",
      "|    47|   1088|     4| 2.9026241|        1.0973759|        0|\n",
      "|   169|   1088|     4|  3.768289|       0.23171091|        1|\n",
      "|   307|   1088|     3| 2.2977016|        0.7022984|        0|\n",
      "|   391|   1088|     1|  2.807645|        1.8076451|        0|\n",
      "|   414|   1088|     3| 3.0564287|       0.05642867|        1|\n",
      "|   188|   1088|     4| 3.7434595|       0.25654054|        1|\n",
      "|   525|   1088|     4| 2.8965552|        1.1034448|        0|\n",
      "|    42|   1088|     3|  3.246733|       0.24673295|        1|\n",
      "|   517|   1088|     1| 2.4880488|        1.4880488|        0|\n",
      "|   268|   1238|     5| 3.4924662|        1.5075338|        0|\n",
      "|   156|   1238|     4| 3.7202878|        0.2797122|        1|\n",
      "|   322|   1580|     3|  2.876669|       0.12333107|        1|\n",
      "|   593|   1580|     1| 2.5394995|        1.5394995|        0|\n",
      "|    34|   1580|     2|  3.323878|         1.323878|        0|\n",
      "|   330|   1580|     4|   2.90721|        1.0927899|        0|\n",
      "|    93|   1580|     5|  4.422389|       0.57761097|        0|\n",
      "|   233|   1580|     3| 2.5271757|       0.47282434|        1|\n",
      "|    47|   1580|     1| 2.4424543|        1.4424543|        0|\n",
      "|     1|   1580|     3| 3.7972653|        0.7972653|        0|\n",
      "+------+-------+------+----------+-----------------+---------+\n",
      "only showing top 30 rows\n",
      "\n"
     ]
    }
   ],
   "source": [
    "predictions.show(30)"
   ]
  },
  {
   "cell_type": "code",
   "execution_count": 60,
   "metadata": {},
   "outputs": [
    {
     "name": "stdout",
     "output_type": "stream",
     "text": [
      "+-------+------------------+------------------+------------------+------------------+------------------+------------------+\n",
      "|summary|            userId|           movieId|            rating|        prediction| rating-prediction|         good_pred|\n",
      "+-------+------------------+------------------+------------------+------------------+------------------+------------------+\n",
      "|  count|             19507|             19507|             19507|             19507|             19507|             19507|\n",
      "|   mean| 320.7330701799354|17852.724252832315|3.3786333111190854| 3.161560874994356|0.7160302898277231|0.4368688163223458|\n",
      "| stddev|183.01299415268582| 33082.92588926088|1.0898667880579735|0.7004750676669234|0.5747069787353398|0.4960111550082274|\n",
      "|    min|                 1|                 1|                 0|               0.0|      3.1232834E-5|                 0|\n",
      "|    max|               610|            188301|                 5|         5.3274026|               5.0|                 1|\n",
      "+-------+------------------+------------------+------------------+------------------+------------------+------------------+\n",
      "\n"
     ]
    }
   ],
   "source": [
    "predictions.describe().show()"
   ]
  },
  {
   "cell_type": "code",
   "execution_count": 66,
   "metadata": {},
   "outputs": [
    {
     "name": "stdout",
     "output_type": "stream",
     "text": [
      "+------------------+\n",
      "|    avg(good_pred)|\n",
      "+------------------+\n",
      "|0.4368688163223458|\n",
      "+------------------+\n",
      "\n"
     ]
    }
   ],
   "source": [
    "predictions.groupBy().avg('good_pred').show()"
   ]
  },
  {
   "cell_type": "markdown",
   "metadata": {},
   "source": [
    "Cela signifie que nous notre modèle nous permet de réaliser environ **44 %** de prédictions correctes, *i.e.* à plus ou moins 0.5 étoile près, sur le dataset d'entraînement."
   ]
  },
  {
   "cell_type": "markdown",
   "metadata": {},
   "source": [
    "### 11. Jointure avec les données des titres des films"
   ]
  },
  {
   "cell_type": "code",
   "execution_count": 68,
   "metadata": {},
   "outputs": [
    {
     "name": "stdout",
     "output_type": "stream",
     "text": [
      "+-------+--------------------+--------------------+\n",
      "|movieId|               title|              genres|\n",
      "+-------+--------------------+--------------------+\n",
      "|      1|    Toy Story (1995)|Adventure|Animati...|\n",
      "|      2|      Jumanji (1995)|Adventure|Childre...|\n",
      "|      3|Grumpier Old Men ...|      Comedy|Romance|\n",
      "|      4|Waiting to Exhale...|Comedy|Drama|Romance|\n",
      "|      5|Father of the Bri...|              Comedy|\n",
      "|      6|         Heat (1995)|Action|Crime|Thri...|\n",
      "|      7|      Sabrina (1995)|      Comedy|Romance|\n",
      "|      8| Tom and Huck (1995)|  Adventure|Children|\n",
      "|      9| Sudden Death (1995)|              Action|\n",
      "|     10|    GoldenEye (1995)|Action|Adventure|...|\n",
      "+-------+--------------------+--------------------+\n",
      "only showing top 10 rows\n",
      "\n"
     ]
    }
   ],
   "source": [
    "path_data = \"/home/p5hngk/Downloads/GitHub/SD_701---Data_Mining/ml-latest-small\"\n",
    "\n",
    "df_movies = spark.read.format(\"csv\").option(\"header\", \"true\").load(path_data+\"/movies.csv\")\n",
    "df_movies.show(10)"
   ]
  },
  {
   "cell_type": "code",
   "execution_count": 88,
   "metadata": {},
   "outputs": [],
   "source": [
    "predictions2 = predictions.join(df_movies, on=['movieId'], how='left_outer')"
   ]
  },
  {
   "cell_type": "code",
   "execution_count": 89,
   "metadata": {},
   "outputs": [
    {
     "name": "stdout",
     "output_type": "stream",
     "text": [
      "+-------+------+------+----------+-----------------+---------+----------------+--------------------+\n",
      "|movieId|userId|rating|prediction|rating-prediction|good_pred|           title|              genres|\n",
      "+-------+------+------+----------+-----------------+---------+----------------+--------------------+\n",
      "|      1|   596|     4| 3.2742593|        0.7257407|        0|Toy Story (1995)|Adventure|Animati...|\n",
      "|      1|   525|     4| 3.2849152|        0.7150848|        0|Toy Story (1995)|Adventure|Animati...|\n",
      "|      1|   332|     4| 3.4803617|        0.5196383|        0|Toy Story (1995)|Adventure|Animati...|\n",
      "|      1|   156|     4| 3.4410477|       0.55895233|        0|Toy Story (1995)|Adventure|Animati...|\n",
      "|      1|   534|     4|  3.994771|     0.0052289963|        1|Toy Story (1995)|Adventure|Animati...|\n",
      "|      1|    71|     5| 3.7085998|        1.2914002|        0|Toy Story (1995)|Adventure|Animati...|\n",
      "|      1|   541|     3| 3.7809315|        0.7809315|        0|Toy Story (1995)|Adventure|Animati...|\n",
      "|      1|   277|     4|  4.053259|      0.053258896|        1|Toy Story (1995)|Adventure|Animati...|\n",
      "|      1|   275|     5| 3.9901175|        1.0098825|        0|Toy Story (1995)|Adventure|Animati...|\n",
      "|      1|    21|     3| 2.9196885|       0.08031154|        1|Toy Story (1995)|Adventure|Animati...|\n",
      "|      1|   264|     4| 3.5826435|        0.4173565|        1|Toy Story (1995)|Adventure|Animati...|\n",
      "|      1|   167|     3| 3.3068426|       0.30684257|        1|Toy Story (1995)|Adventure|Animati...|\n",
      "|      1|   274|     4|  3.307249|       0.69275093|        0|Toy Story (1995)|Adventure|Animati...|\n",
      "|      1|   292|     4| 3.4046488|        0.5953512|        0|Toy Story (1995)|Adventure|Animati...|\n",
      "|      1|   469|     4|  3.622518|       0.37748194|        1|Toy Story (1995)|Adventure|Animati...|\n",
      "|      1|   254|     4| 3.6469126|       0.35308743|        1|Toy Story (1995)|Adventure|Animati...|\n",
      "|      1|   273|     5| 4.2104063|        0.7895937|        0|Toy Story (1995)|Adventure|Animati...|\n",
      "|      1|   161|     4|    4.1211|       0.12109995|        1|Toy Story (1995)|Adventure|Animati...|\n",
      "|      1|   134|     3| 3.7305348|        0.7305348|        0|Toy Story (1995)|Adventure|Animati...|\n",
      "|      1|   434|     4| 3.4223106|        0.5776894|        0|Toy Story (1995)|Adventure|Animati...|\n",
      "|      1|   529|     3| 3.5545669|       0.55456686|        0|Toy Story (1995)|Adventure|Animati...|\n",
      "|      1|   468|     4| 3.6943393|       0.30566072|        1|Toy Story (1995)|Adventure|Animati...|\n",
      "|      1|   601|     4| 3.9850492|      0.014950752|        1|Toy Story (1995)|Adventure|Animati...|\n",
      "|      1|   460|     4|    3.8303|        0.1696999|        1|Toy Story (1995)|Adventure|Animati...|\n",
      "|      1|   533|     5| 3.8139675|        1.1860325|        0|Toy Story (1995)|Adventure|Animati...|\n",
      "|      1|   239|     4| 3.7668579|       0.23314214|        1|Toy Story (1995)|Adventure|Animati...|\n",
      "|      1|    63|     5| 3.2367496|        1.7632504|        0|Toy Story (1995)|Adventure|Animati...|\n",
      "|      1|    50|     3|  2.588236|        0.4117639|        1|Toy Story (1995)|Adventure|Animati...|\n",
      "|      1|   206|     5|  4.092016|        0.9079838|        0|Toy Story (1995)|Adventure|Animati...|\n",
      "|      1|   451|     5|  3.968817|         1.031183|        0|Toy Story (1995)|Adventure|Animati...|\n",
      "|      1|   232|     3| 3.2039847|       0.20398474|        1|Toy Story (1995)|Adventure|Animati...|\n",
      "|      1|   140|     3| 3.5974844|       0.59748435|        0|Toy Story (1995)|Adventure|Animati...|\n",
      "|      1|    31|     5|  4.045808|       0.95419216|        0|Toy Story (1995)|Adventure|Animati...|\n",
      "|      1|    40|     5|  4.142633|       0.85736704|        0|Toy Story (1995)|Adventure|Animati...|\n",
      "|      1|   141|     4| 3.2569034|        0.7430966|        0|Toy Story (1995)|Adventure|Animati...|\n",
      "|      1|   280|     4| 3.7686403|       0.23135972|        1|Toy Story (1995)|Adventure|Animati...|\n",
      "|      1|   107|     4|  4.379612|       0.37961197|        1|Toy Story (1995)|Adventure|Animati...|\n",
      "|      1|    15|     2| 3.1949582|        1.1949582|        0|Toy Story (1995)|Adventure|Animati...|\n",
      "|      1|   609|     3| 3.4471574|       0.44715738|        1|Toy Story (1995)|Adventure|Animati...|\n",
      "|      1|   610|     5| 3.6741738|        1.3258262|        0|Toy Story (1995)|Adventure|Animati...|\n",
      "|      1|   171|     5| 4.7204742|       0.27952576|        1|Toy Story (1995)|Adventure|Animati...|\n",
      "|      1|   380|     5| 3.9105825|        1.0894175|        0|Toy Story (1995)|Adventure|Animati...|\n",
      "|      1|   600|     2| 3.2123697|        1.2123697|        0|Toy Story (1995)|Adventure|Animati...|\n",
      "|      1|   422|     4| 3.5642686|        0.4357314|        1|Toy Story (1995)|Adventure|Animati...|\n",
      "|      1|   155|     3|  3.421243|       0.42124295|        1|Toy Story (1995)|Adventure|Animati...|\n",
      "|      1|   373|     3|  3.584734|       0.58473396|        0|Toy Story (1995)|Adventure|Animati...|\n",
      "|      1|   385|     4|  3.536365|       0.46363497|        1|Toy Story (1995)|Adventure|Animati...|\n",
      "|      1|   605|     4| 3.3761423|       0.62385774|        0|Toy Story (1995)|Adventure|Animati...|\n",
      "|      2|     6|     4| 3.8538592|       0.14614081|        1|  Jumanji (1995)|Adventure|Childre...|\n",
      "|      2|   436|     4| 3.3905978|        0.6094022|        0|  Jumanji (1995)|Adventure|Childre...|\n",
      "+-------+------+------+----------+-----------------+---------+----------------+--------------------+\n",
      "only showing top 50 rows\n",
      "\n"
     ]
    }
   ],
   "source": [
    "predictions2.orderBy(new.movieId.asc()).show(50)"
   ]
  },
  {
   "cell_type": "markdown",
   "metadata": {},
   "source": [
    "### 10. Réalisation de recommandations"
   ]
  },
  {
   "cell_type": "code",
   "execution_count": 67,
   "metadata": {},
   "outputs": [],
   "source": [
    "def make_recommendations(self, fav_movie, n_recommendations):\n",
    "    \"\"\"\n",
    "    make top n movie recommendations\n",
    "    Parameters\n",
    "    ----------\n",
    "    fav_movie: str, name of user input movie\n",
    "    n_recommendations: int, top n recommendations\n",
    "    \"\"\"\n",
    "    # get data\n",
    "    movie_user_mat_sparse, hashmap = self._prep_data()\n",
    "    # get recommendations\n",
    "    raw_recommends = self._inference(\n",
    "        self.model, movie_user_mat_sparse, hashmap,\n",
    "        fav_movie, n_recommendations)\n",
    "    # print results\n",
    "    reverse_hashmap = {v: k for k, v in hashmap.items()}\n",
    "    print('Recommendations for {}:'.format(fav_movie))\n",
    "    for i, (idx, dist) in enumerate(raw_recommends):\n",
    "        print('{0}: {1}, with distance '\n",
    "              'of {2}'.format(i+1, reverse_hashmap[idx], dist))"
   ]
  },
  {
   "cell_type": "code",
   "execution_count": null,
   "metadata": {},
   "outputs": [],
   "source": []
  },
  {
   "cell_type": "code",
   "execution_count": 101,
   "metadata": {},
   "outputs": [
    {
     "name": "stdout",
     "output_type": "stream",
     "text": [
      "+------+--------------------+\n",
      "|userId|     recommendations|\n",
      "+------+--------------------+\n",
      "|   471|[[7842, 4.5132], ...|\n",
      "|   463|[[7842, 5.144905]...|\n",
      "|   496|[[7842, 4.533911]...|\n",
      "|   148|[[8477, 4.655421]...|\n",
      "|   540|[[7842, 5.5218005...|\n",
      "|   392|[[8477, 4.842426]...|\n",
      "|   243|[[67618, 5.862327...|\n",
      "|    31|[[33649, 5.740833...|\n",
      "|   516|[[4429, 4.7700167...|\n",
      "|   580|[[7842, 5.212381]...|\n",
      "+------+--------------------+\n",
      "only showing top 10 rows\n",
      "\n"
     ]
    }
   ],
   "source": [
    "# Generate top 10 movie recommendations for each user\n",
    "userRecs = best_model.recommendForAllUsers(10).show(10)"
   ]
  },
  {
   "cell_type": "code",
   "execution_count": 102,
   "metadata": {},
   "outputs": [
    {
     "name": "stdout",
     "output_type": "stream",
     "text": [
      "+-------+--------------------+\n",
      "|movieId|     recommendations|\n",
      "+-------+--------------------+\n",
      "|   1580|[[53, 4.7668843],...|\n",
      "|   4900|[[53, 4.532554], ...|\n",
      "|   5300|[[53, 4.2717924],...|\n",
      "|   6620|[[191, 4.574413],...|\n",
      "|   7340|[[53, 3.979438], ...|\n",
      "|  32460|[[53, 5.301957], ...|\n",
      "|  54190|[[53, 5.637684], ...|\n",
      "|    471|[[53, 4.8591766],...|\n",
      "|   1591|[[37, 3.6290343],...|\n",
      "|   1342|[[171, 3.5377822]...|\n",
      "+-------+--------------------+\n",
      "only showing top 10 rows\n",
      "\n"
     ]
    }
   ],
   "source": [
    "# Generate top 10 user recommendations for each movie\n",
    "movieRecs = best_model.recommendForAllItems(10).show(10)"
   ]
  },
  {
   "cell_type": "code",
   "execution_count": null,
   "metadata": {},
   "outputs": [],
   "source": [
    "# Generate top 10 movie recommendations for a specified set of users\n",
    "users = ratings.select(als.getUserCol()).distinct().limit(3)\n",
    "userSubsetRecs = best_model.recommendForUserSubset(users, 10)"
   ]
  },
  {
   "cell_type": "code",
   "execution_count": null,
   "metadata": {},
   "outputs": [],
   "source": [
    "# Generate top 10 user recommendations for a specified set of movies\n",
    "movies = ratings.select(als.getItemCol()).distinct().limit(3)\n",
    "movieSubSetRecs = best_model.recommendForItemSubset(movies, 10)"
   ]
  },
  {
   "cell_type": "markdown",
   "metadata": {},
   "source": [
    "------------------------------------\n",
    "-----------------------------------"
   ]
  },
  {
   "cell_type": "code",
   "execution_count": null,
   "metadata": {},
   "outputs": [],
   "source": []
  }
 ],
 "metadata": {
  "kernelspec": {
   "display_name": "Python 3",
   "language": "python",
   "name": "python3"
  },
  "language_info": {
   "codemirror_mode": {
    "name": "ipython",
    "version": 3
   },
   "file_extension": ".py",
   "mimetype": "text/x-python",
   "name": "python",
   "nbconvert_exporter": "python",
   "pygments_lexer": "ipython3",
   "version": "3.7.4"
  }
 },
 "nbformat": 4,
 "nbformat_minor": 4
}
