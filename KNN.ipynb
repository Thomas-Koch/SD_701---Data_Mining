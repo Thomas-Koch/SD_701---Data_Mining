{
 "cells": [
  {
   "cell_type": "markdown",
   "metadata": {},
   "source": [
    "--------------------------------\n",
    "# <center>SD 701 : Data Mining Project 1/2</center>\n",
    "---------------------------------\n",
    "       \n",
    "***Philippe Bénézeth          \n",
    "et           \n",
    "Thomas Koch***\n",
    "\n",
    "--------------------------\n",
    "* La base de données utilisée est la base de données Movies utilisée lors du TP.\n",
    "* Chaque film est associé à un ou plusieurs genres. Il existe 20 \"genres\" différents.\n",
    "\n",
    "* L'idée de départ est de considérer les notes moyennes des utilisateurs selon les genres des films et d'établir ainsi un \"profil\" d'utilisateur. On va donc calculer un profil d'utilisateur qui sera un vecteur de 20 coordonnées représentant la moyenne des notes attribuées par cet utilisateur aux films selon leurs genres.\n",
    "\n",
    "* Pour un film, le principe est alors de faire l'hypothèse que 2 utiliseurs ayant des sous-profils (variables limitées aux genres du film) proches (au sens de la distance euclidienne) notteront le film de façon similaire. On utilisera donc une approche knn (on a retenu k = 5).\n",
    "\n",
    "* Afin d'avoir des résultats basés sur des datasets suffisament importants, on a limité les prédictions sur les 19 users qui ont vu plus de 250 films parmi ceux vus par plus de 50 users\n",
    "\n",
    "* Ainsi, pour chaque film vu par le user considéré et pour lequel on a au moins 50 notes dans la base de notations, on considère les genres qui lui sont attachés. On lance ensuite le knn sur une projection de profil sur ces genres. On moyennise les notes des 5 voisins sur le film pour prédire la note du user considéré.\n",
    "\n",
    "* Ayant remarqué un biais important entre la note moyenne mise par un utilisateur sur la totalité des films vus par lui et la note moyenne de l'ensemble des utilisateurs sur la totalité des films on débiaise la note moyenne obtenue sur les voisins du knn.\n",
    "\n",
    "* Les notes allant de 0.5 étoile à 5 étoiles, on considère la prédiction réussie et la prédiction à une 1/2 étoile près.\n",
    "* Pour la prédiction réussie, on affiche un résultat de 25.7% (à comparer aux 10% d'une prédiction aléatoire). \n",
    "* Pour la prédiction à une 1/2 étoile près, on ajoute 38.6% soit un total de 64.3% de réussite cumulée (à comparer aux 30% d'une prédiction aléatoire).\n"
   ]
  },
  {
   "cell_type": "code",
   "execution_count": 2,
   "metadata": {},
   "outputs": [],
   "source": [
    "import pyspark\n",
    "from pyspark import SparkContext\n",
    "import numpy as np\n",
    "\n",
    "sc = SparkContext(appName=\"Movies\")\n"
   ]
  },
  {
   "cell_type": "markdown",
   "metadata": {},
   "source": [
    "## Récupération et nettoyage du dataset"
   ]
  },
  {
   "cell_type": "code",
   "execution_count": 3,
   "metadata": {},
   "outputs": [],
   "source": [
    "import re\n",
    "future_pattern = re.compile(\"\"\"([^,\"]+|\"[^\"]+\")(?=,|$)\"\"\")\n",
    "\n",
    "def parseCSV(line):\n",
    "    return future_pattern.findall(line)\n",
    "\n",
    "path_data = \"./Data\"\n",
    "ratingsFile = sc.textFile(path_data + \"/ratings.csv\")\n",
    "moviesFile = sc.textFile(path_data + \"/movies.csv\")\n",
    "\n",
    "ratings = ratingsFile.map(parseCSV)\n",
    "movies = moviesFile.map(parseCSV)\n",
    "\n",
    "def cast3(line):\n",
    "    line[2] = float(line[2])\n",
    "    return line\n",
    "\n",
    "ratings = ratings.filter(lambda x: x[0]!=\"userId\").map(lambda line : cast3(line))\n",
    "movies = movies.filter(lambda x:x[0]!=\"movieId\")"
   ]
  },
  {
   "cell_type": "markdown",
   "metadata": {},
   "source": [
    "## On limite le test aux users qui ont vu plus de 250 films parmi ceux vus par plus de 50 users"
   ]
  },
  {
   "cell_type": "code",
   "execution_count": 3,
   "metadata": {},
   "outputs": [],
   "source": [
    "# films vus par plus de 50 users\n",
    "list_films_test = ratings.map(lambda x : (x[1],x[0])).groupByKey().mapValues(\n",
    "    lambda list : len(list)).filter(lambda x : x[1] > 50).map(lambda x : x[0]).collect()\n",
    "\n",
    "# users qui ont vu plus de 250 films vus par plus de 50 users\n",
    "list_users_test = ratings.filter(lambda x : x[1] in list_films_test).map(lambda x : (x[0],x[1])) \\\n",
    ".groupByKey().mapValues(lambda list : len(list)).filter(lambda x : x[1] > 250).map(lambda x : x[0]).collect()\n",
    "\n",
    "# score contiendra le % de réussite de la prédiction par user test\n",
    "score ={}\n",
    "# score1 contiendra le % de prédiction à 1 étoile près\n",
    "score1 ={}"
   ]
  },
  {
   "cell_type": "markdown",
   "metadata": {},
   "source": [
    "## Préparation des RDD"
   ]
  },
  {
   "cell_type": "code",
   "execution_count": 4,
   "metadata": {},
   "outputs": [],
   "source": [
    "# m3 : paire (idmovie,genre)\n",
    "m3 = movies.map(lambda x : (x[0], x[1], x[2].split(\"|\"))).flatMap(lambda x : [(x[0],genre) for genre in x[2]])\n",
    "\n",
    "# m4 : idmovie, liste de genres\n",
    "m4 = movies.map(lambda x : (x[0], x[2].split(\"|\")))\n",
    "\n",
    "# r2 : paire (idmovie, (user, grade))\n",
    "r2 = ratings.map(lambda x : (x[1],(x[0],x[2])))\n",
    "\n",
    "# grades : paire ((user,genre), grade)\n",
    "grades = r2.join(m3).map(lambda x : ((x[1][0][0],x[1][1]), x[1][0][1]))\n",
    "\n",
    "#averagegrade : (user,genre, average)\n",
    "averagegrade = grades.groupByKey().mapValues(lambda x : sum(x)/(len(x))).map(\n",
    "                        lambda y : (y[0][0], y[0][1], y[1]))"
   ]
  },
  {
   "cell_type": "markdown",
   "metadata": {},
   "source": [
    "## La liste des genres est la liste des variables descriptives de nos profils user"
   ]
  },
  {
   "cell_type": "code",
   "execution_count": 5,
   "metadata": {},
   "outputs": [],
   "source": [
    "# list_genres contient tous les genres uniques de la base\n",
    "list_genres = m3.groupBy(lambda x : x[1]).map(lambda x : x[0]).collect()"
   ]
  },
  {
   "cell_type": "code",
   "execution_count": 6,
   "metadata": {},
   "outputs": [],
   "source": [
    "# dictionnaire qui donne l'index de colonne pour un genre \n",
    "dict_genre_index ={}\n",
    "for index, genre in enumerate(list_genres):\n",
    "    dict_genre_index[genre] = index"
   ]
  },
  {
   "cell_type": "markdown",
   "metadata": {},
   "source": [
    "## On crée une bijection via 2 dictionnaires entre les index des lignes de notre matrice profil et les id user et on renseigne la matrice profil"
   ]
  },
  {
   "cell_type": "code",
   "execution_count": 7,
   "metadata": {},
   "outputs": [],
   "source": [
    "# dictionnaire qui donne l'index de ligne pour un user et vice versa \n",
    "dict_users_index ={}\n",
    "dict_index_users ={}\n",
    "\n",
    "list_users = ratings.groupBy(lambda x : x[0]).map(lambda x : x[0]).collect()\n",
    "\n",
    "for index, user in enumerate(list_users):\n",
    "    dict_users_index[user] = index\n",
    "    dict_index_users[index] = user\n",
    "\n",
    "\n",
    "# profil : la matrice avec en ligne les users et en colonne les notes moyennes par genre\n",
    "profil = np.zeros((len(list_users),20))\n",
    "\n",
    "for user in list_users:\n",
    "    ligne = averagegrade.filter(lambda x : x[0]==user).collect()\n",
    "    for iduser, genre, grade in ligne:\n",
    "        profil[dict_users_index[iduser], dict_genre_index[genre]] = grade"
   ]
  },
  {
   "cell_type": "markdown",
   "metadata": {},
   "source": [
    "## Fonction spécifique qui retourne la liste des knn profils (k = 5)"
   ]
  },
  {
   "cell_type": "code",
   "execution_count": 8,
   "metadata": {},
   "outputs": [],
   "source": [
    "from sklearn.base import BaseEstimator, ClassifierMixin\n",
    "from sklearn.metrics import pairwise_distances\n",
    "from collections import Counter\n",
    "\n",
    "\n",
    "# adaptation du KNNClassifier du TP2 ML pour retourner la liste des knn (au lieu de la prediction)\n",
    "class KNNClassifier(BaseEstimator, ClassifierMixin):\n",
    "    # Homemade kNN classifier class \n",
    "    def __init__(self, n_neighbors=1):\n",
    "        self.n_neighbors = n_neighbors\n",
    "    \n",
    "    def fit(self, X, y):\n",
    "        self.X = X\n",
    "        self.y = y\n",
    "        return self\n",
    "    \n",
    "    def predict(self, X):\n",
    "        n = X.shape[0] # nombre de points à évaluer\n",
    "        # pairwise retourne les distance de points 2 à 2\n",
    "        dist = pairwise_distances(X, self.X, 'euclidean') # self.X représente le jeu de données étiquetées\n",
    "        # recoit pour chaque point à évaluer les indices triés des points de jeu de données étiquetées \n",
    "        ind = np.argsort(dist, axis=1) \n",
    "        return ind[:,0:self.n_neighbors]"
   ]
  },
  {
   "cell_type": "markdown",
   "metadata": {},
   "source": [
    "## A partir d'ici on travaille en leave-one-out, user1 est le cobaye pour lequel on calcule la prédiction"
   ]
  },
  {
   "cell_type": "code",
   "execution_count": 17,
   "metadata": {},
   "outputs": [
    {
     "name": "stdout",
     "output_type": "stream",
     "text": [
      "User 68, sur 383 films, estimation réussie à 20.4% + 32.4% à 1/2 étoile près, soit un cumul de 52.8%\n",
      "User 91, sur 276 films, estimation réussie à 27.5% + 34.8% à 1/2 étoile près, soit un cumul de 62.3%\n",
      "User 249, sur 259 films, estimation réussie à 37.1% + 51.7% à 1/2 étoile près, soit un cumul de 88.8%\n",
      "User 274, sur 340 films, estimation réussie à 25.3% + 50.6% à 1/2 étoile près, soit un cumul de 75.9%\n",
      "User 307, sur 287 films, estimation réussie à 26.1% + 36.6% à 1/2 étoile près, soit un cumul de 62.7%\n",
      "User 380, sur 294 films, estimation réussie à 21.1% + 32.0% à 1/2 étoile près, soit un cumul de 53.1%\n",
      "User 414, sur 416 films, estimation réussie à 18.5% + 42.3% à 1/2 étoile près, soit un cumul de 60.8%\n",
      "User 474, sur 330 films, estimation réussie à 28.5% + 37.3% à 1/2 étoile près, soit un cumul de 65.8%\n",
      "User 483, sur 287 films, estimation réussie à 28.2% + 39.7% à 1/2 étoile près, soit un cumul de 67.9%\n",
      "User 590, sur 305 films, estimation réussie à 31.5% + 47.5% à 1/2 étoile près, soit un cumul de 79.0%\n",
      "User 600, sur 255 films, estimation réussie à 22.7% + 32.5% à 1/2 étoile près, soit un cumul de 55.2%\n",
      "User 608, sur 302 films, estimation réussie à 24.5% + 33.4% à 1/2 étoile près, soit un cumul de 57.9%\n",
      "User 177, sur 268 films, estimation réussie à 25.4% + 34.7% à 1/2 étoile près, soit un cumul de 60.1%\n",
      "User 182, sur 260 films, estimation réussie à 25.4% + 39.2% à 1/2 étoile près, soit un cumul de 64.6%\n",
      "User 288, sur 289 films, estimation réussie à 26.6% + 40.5% à 1/2 étoile près, soit un cumul de 67.1%\n",
      "User 448, sur 311 films, estimation réussie à 23.8% + 30.2% à 1/2 étoile près, soit un cumul de 54.0%\n",
      "User 480, sur 341 films, estimation réussie à 23.5% + 38.4% à 1/2 étoile près, soit un cumul de 61.9%\n",
      "User 489, sur 271 films, estimation réussie à 23.6% + 38.4% à 1/2 étoile près, soit un cumul de 62.0%\n",
      "User 599, sur 378 films, estimation réussie à 29.1% + 41.0% à 1/2 étoile près, soit un cumul de 70.1%\n"
     ]
    }
   ],
   "source": [
    "for user1 in list_users_test:\n",
    "\n",
    "    profiluser1 = profil[dict_users_index[user1],:].reshape(1,-1)\n",
    "\n",
    "\n",
    "    # moviesuser1 : liste limitée aux films vus par user1 et appartenant à list_films_test\n",
    "    # cad des films vus par suffisamment d'autres users \n",
    "    list_films_user1 = ratings.filter(lambda x : (x[1] in list_films_test) and (x[0] == user1)) \\\n",
    "        .map(lambda x : x[1]).collect()\n",
    "    moviesuser1 = ratings.filter(lambda x : (x[1] in list_films_user1) and (x[0] == user1)) \\\n",
    "        .map(lambda x : (x[1], x[2])).join(m4).map(lambda x : (x[0], x[1][0], x[1][1])).collect()\n",
    "\n",
    "\n",
    "    # resultat : 1ere colonne -> note de user1, 2ème colonne -> note prédite\n",
    "    resultat = np.zeros((len(moviesuser1),2))\n",
    "    i=0\n",
    "\n",
    "    # pour chaque film, on extraie de profil une sous matrice avec en colonnes les genres du film,\n",
    "    # et en ligne les users qui ont vu le film\n",
    "    for idmovie, grade, l_genres in moviesuser1:\n",
    "        resultat[i,0] = grade\n",
    "\n",
    "        # recherche des index des colonnes (genres)\n",
    "        masque_col = []\n",
    "        for genre in l_genres:\n",
    "            # masque_col contient les indices des genres du film\n",
    "            masque_col.append(dict_genre_index[genre])\n",
    "\n",
    "        # recherche des index des lignes (users)\n",
    "        l_users = ratings.filter(lambda x : x[1] == idmovie and x[0] != user1).map(lambda x : x[0]).collect()\n",
    "        masque_ligne = []\n",
    "        for user in l_users:\n",
    "            # masque_ligne contient les indices des users qui ont vu le film\n",
    "            masque_ligne.append(dict_users_index[user])\n",
    "\n",
    "        # knn sur un nombre limité de users et de genres\n",
    "        clf_taylor_made = KNNClassifier(n_neighbors = 5)\n",
    "        clf_taylor_made.fit(profil[masque_ligne,: ][:,masque_col], np.zeros((len(masque_ligne),)))\n",
    "        list_knn = clf_taylor_made.predict(profiluser1[0,masque_col].reshape(1, len(masque_col)))\n",
    "\n",
    "        # calcul du grade moyen donné à ce film par les knn users knn\n",
    "        l_idusers = []\n",
    "        for index in masque_ligne:\n",
    "            l_idusers.append(dict_index_users[index])\n",
    "        gradeknn = ratings.filter(lambda x : x[1] == idmovie and (x[0] in l_idusers)). \\\n",
    "                        map(lambda x : x[2]).collect()\n",
    "        resultat[i,1] = grade = np.mean(gradeknn)\n",
    "        i += 1\n",
    "\n",
    "    # Afin de garantir une prédiction qui tienne compte des biais de notation des users (certains \n",
    "    # notent larges, d'autres notent plus sec... on ajoute le biais à la prédiction\n",
    "\n",
    "    # moyenne des notes de user1 sur l'ensemble des films vus par user1\n",
    "    moyenne_user1 = ratings.filter(lambda x : x[0] == user1).map(lambda x: (x[0],x[2])\n",
    "                     ).groupByKey().mapValues(lambda list : sum(list)/len(list)).collect()\n",
    "\n",
    "    # moyenne des notes de tous les users (sauf user1) sur l'ensemble des films\n",
    "    moyenne_total = ratings.filter(lambda x : x[0] != user1).map(lambda x: (1,x[2])\n",
    "                     ).groupByKey().mapValues(lambda list : sum(list)/len(list)).collect()\n",
    "\n",
    "    # calcul du biais\n",
    "    biais = moyenne_user1[0][1] - moyenne_total[0][1]\n",
    "\n",
    "    # On ajoute le biais et on écrete à 0.5 ou 5\n",
    "    resultat[:,1] += biais\n",
    "    resultat[:,1] = (resultat[:,1] > 5)*5 + (resultat[:,1] <= 5)*resultat[:,1]\n",
    "    resultat[:,1] = (resultat[:,1] < 0.5)*0.5 + (resultat[:,1] >= 0.5)*resultat[:,1]\n",
    "   \n",
    "    # on considère l'estimation réussie et celle à 1/2 étoile près\n",
    "    delta = np.around(2*(resultat[:,0]-resultat[:,1])).astype(int)\n",
    "    score[user1] = round((np.sum(delta == 0)) /len(moviesuser1)*100,1)\n",
    "    score1[user1] = round((np.sum(abs(delta) == 1)) /len(moviesuser1)*100,1)\n",
    "    print(\"User {}, sur {} films, estimation réussie à {}% + {}% à 1/2 étoile près, soit un cumul de {}%\". \\\n",
    "          format(user1, len(moviesuser1), score[user1], score1[user1], round(score[user1]+score1[user1],1)))"
   ]
  },
  {
   "cell_type": "code",
   "execution_count": 19,
   "metadata": {},
   "outputs": [
    {
     "name": "stdout",
     "output_type": "stream",
     "text": [
      "Sur les 19 users test, le score moyen de réussite est de : 25.7%\n",
      "A 1/2 étoile près on ajoute 38.6%, soit un total de 64.3%\n"
     ]
    }
   ],
   "source": [
    "print(\"Sur les {} users test, le score moyen de réussite est de : {}%\". \\\n",
    "      format(len(list_users_test), round(sum(score.values())/len(score),1)))\n",
    "print(\"A 1/2 étoile près on ajoute {}%, soit un total de {}%\". \\\n",
    "      format(round(sum(score1.values())/len(score1),1), round(sum(score.values())/len(score) + \n",
    "                                                            sum(score1.values())/len(score1),1)))"
   ]
  },
  {
   "cell_type": "code",
   "execution_count": null,
   "metadata": {},
   "outputs": [],
   "source": []
  }
 ],
 "metadata": {
  "kernelspec": {
   "display_name": "Python 3",
   "language": "python",
   "name": "python3"
  },
  "language_info": {
   "codemirror_mode": {
    "name": "ipython",
    "version": 3
   },
   "file_extension": ".py",
   "mimetype": "text/x-python",
   "name": "python",
   "nbconvert_exporter": "python",
   "pygments_lexer": "ipython3",
   "version": "3.7.4"
  }
 },
 "nbformat": 4,
 "nbformat_minor": 4
}
