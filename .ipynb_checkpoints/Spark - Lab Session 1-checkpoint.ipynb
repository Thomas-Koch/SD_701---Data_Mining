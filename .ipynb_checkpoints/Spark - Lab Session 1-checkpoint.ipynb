{
 "cells": [
  {
   "cell_type": "markdown",
   "metadata": {},
   "source": [
    "---------------------------\n",
    "# Spark Lab Session - Exercices with Spark\n",
    "---------------------------\n",
    "*Thomas KOCH*"
   ]
  },
  {
   "cell_type": "markdown",
   "metadata": {},
   "source": [
    "## 1. Opening Spark"
   ]
  },
  {
   "cell_type": "code",
   "execution_count": 1,
   "metadata": {
    "scrolled": true
   },
   "outputs": [],
   "source": [
    "import pyspark\n",
    "import random\n",
    "# import os ?\n",
    "\n",
    "sc = pyspark.SparkContext(appName=\"Spark Lab Session\")"
   ]
  },
  {
   "cell_type": "markdown",
   "metadata": {},
   "source": [
    "## 2. First steps with Spark"
   ]
  },
  {
   "cell_type": "markdown",
   "metadata": {},
   "source": [
    "### 2.1 First RDD"
   ]
  },
  {
   "cell_type": "code",
   "execution_count": 2,
   "metadata": {
    "scrolled": true
   },
   "outputs": [
    {
     "data": {
      "text/plain": [
       "[0, 1, 2, 3, 4, 5, 6, 7, 8, 9, 10, 11, 12, 13, 14, 15, 16, 17, 18, 19]"
      ]
     },
     "execution_count": 2,
     "metadata": {},
     "output_type": "execute_result"
    }
   ],
   "source": [
    "l = list(range(3000))\n",
    "rddl = sc.parallelize(l)\n",
    "rddl.take(20)"
   ]
  },
  {
   "cell_type": "markdown",
   "metadata": {},
   "source": [
    "### 2.2 Computing the sum of cubes"
   ]
  },
  {
   "cell_type": "code",
   "execution_count": 3,
   "metadata": {
    "scrolled": true
   },
   "outputs": [
    {
     "data": {
      "text/plain": [
       "[0, 1, 8, 27, 64, 125, 216, 343, 512, 729]"
      ]
     },
     "execution_count": 3,
     "metadata": {},
     "output_type": "execute_result"
    }
   ],
   "source": [
    "rddc = rddl.map(lambda x : x*x*x)\n",
    "rddc.take(10)"
   ]
  },
  {
   "cell_type": "code",
   "execution_count": 4,
   "metadata": {
    "scrolled": true
   },
   "outputs": [
    {
     "data": {
      "text/plain": [
       "20236502250000"
      ]
     },
     "execution_count": 4,
     "metadata": {},
     "output_type": "execute_result"
    }
   ],
   "source": [
    "rddc.sum()"
   ]
  },
  {
   "cell_type": "markdown",
   "metadata": {},
   "source": [
    "Remarque : on pouvait aussi faire un reduce avant de sommer, mais cela ne servait à rien ici (aspect pédagogique mis à part)."
   ]
  },
  {
   "cell_type": "code",
   "execution_count": 5,
   "metadata": {
    "scrolled": true
   },
   "outputs": [
    {
     "data": {
      "text/plain": [
       "[0, 1, 8, 27, 64, 125, 216, 343, 512, 729]"
      ]
     },
     "execution_count": 5,
     "metadata": {},
     "output_type": "execute_result"
    }
   ],
   "source": [
    "rddc.reduce(lambda x, y : x+y) # ce reduce ne fait rien ici\n",
    "rddc.take(10)"
   ]
  },
  {
   "cell_type": "markdown",
   "metadata": {},
   "source": [
    "### 2.3 Last digits of elements in C"
   ]
  },
  {
   "cell_type": "code",
   "execution_count": 6,
   "metadata": {
    "scrolled": true
   },
   "outputs": [
    {
     "data": {
      "text/plain": [
       "[0, 1, 8, 7, 4, 5, 6, 3, 2, 9]"
      ]
     },
     "execution_count": 6,
     "metadata": {},
     "output_type": "execute_result"
    }
   ],
   "source": [
    "# Première étape : calculer la liste contenant\n",
    "# les derniers chiffres\n",
    "lastDigits = rddc.map(lambda x: x%10)\n",
    "lastDigits.take(10)"
   ]
  },
  {
   "cell_type": "code",
   "execution_count": 7,
   "metadata": {
    "scrolled": true
   },
   "outputs": [
    {
     "data": {
      "text/plain": [
       "[(0, 300),\n",
       " (8, 300),\n",
       " (4, 300),\n",
       " (1, 300),\n",
       " (5, 300),\n",
       " (9, 300),\n",
       " (6, 300),\n",
       " (2, 300),\n",
       " (7, 300),\n",
       " (3, 300)]"
      ]
     },
     "execution_count": 7,
     "metadata": {},
     "output_type": "execute_result"
    }
   ],
   "source": [
    "# Deuxième étape : compter combien de fois chaque\n",
    "# items apparait \n",
    "countLastDigits = lastDigits.map(lambda x:(x,1)).reduceByKey(lambda x,y: x+y)\n",
    "countLastDigits.take(20)"
   ]
  },
  {
   "cell_type": "code",
   "execution_count": 8,
   "metadata": {
    "scrolled": true
   },
   "outputs": [
    {
     "data": {
      "text/plain": [
       "[(0, 300),\n",
       " (8, 300),\n",
       " (4, 300),\n",
       " (1, 300),\n",
       " (5, 300),\n",
       " (9, 300),\n",
       " (6, 300),\n",
       " (2, 300),\n",
       " (7, 300),\n",
       " (3, 300)]"
      ]
     },
     "execution_count": 8,
     "metadata": {},
     "output_type": "execute_result"
    }
   ],
   "source": [
    "# On peut aussi directement faire \n",
    "rddc.map(lambda x:(x%10,1)).reduceByKey(lambda x, y : x+y).collect()"
   ]
  },
  {
   "cell_type": "markdown",
   "metadata": {},
   "source": [
    "### 2.4 Digits of C"
   ]
  },
  {
   "cell_type": "code",
   "execution_count": 9,
   "metadata": {
    "scrolled": true
   },
   "outputs": [
    {
     "data": {
      "text/plain": [
       "[('4', 2762),\n",
       " ('7', 2787),\n",
       " ('6', 2713),\n",
       " ('3', 2814),\n",
       " ('0', 3127),\n",
       " ('1', 3667),\n",
       " ('8', 2639),\n",
       " ('9', 2521),\n",
       " ('2', 3294),\n",
       " ('5', 2653)]"
      ]
     },
     "execution_count": 9,
     "metadata": {},
     "output_type": "execute_result"
    }
   ],
   "source": [
    "rddc.flatMap(lambda x : [(e,1) for e in str(x)]).reduceByKey(lambda x, y : x+y).collect()"
   ]
  },
  {
   "cell_type": "markdown",
   "metadata": {},
   "source": [
    "En décomposant :"
   ]
  },
  {
   "cell_type": "code",
   "execution_count": 10,
   "metadata": {
    "scrolled": true
   },
   "outputs": [
    {
     "data": {
      "text/plain": [
       "[('0', 1),\n",
       " ('1', 1),\n",
       " ('8', 1),\n",
       " ('2', 1),\n",
       " ('7', 1),\n",
       " ('6', 1),\n",
       " ('4', 1),\n",
       " ('1', 1),\n",
       " ('2', 1),\n",
       " ('5', 1),\n",
       " ('2', 1),\n",
       " ('1', 1),\n",
       " ('6', 1),\n",
       " ('3', 1),\n",
       " ('4', 1),\n",
       " ('3', 1),\n",
       " ('5', 1),\n",
       " ('1', 1),\n",
       " ('2', 1),\n",
       " ('7', 1),\n",
       " ('2', 1),\n",
       " ('9', 1),\n",
       " ('1', 1),\n",
       " ('0', 1),\n",
       " ('0', 1),\n",
       " ('0', 1),\n",
       " ('1', 1),\n",
       " ('3', 1),\n",
       " ('3', 1),\n",
       " ('1', 1),\n",
       " ('1', 1),\n",
       " ('7', 1),\n",
       " ('2', 1),\n",
       " ('8', 1),\n",
       " ('2', 1),\n",
       " ('1', 1),\n",
       " ('9', 1),\n",
       " ('7', 1),\n",
       " ('2', 1),\n",
       " ('7', 1),\n",
       " ('4', 1),\n",
       " ('4', 1),\n",
       " ('3', 1),\n",
       " ('3', 1),\n",
       " ('7', 1),\n",
       " ('5', 1),\n",
       " ('4', 1),\n",
       " ('0', 1),\n",
       " ('9', 1),\n",
       " ('6', 1),\n",
       " ('4', 1),\n",
       " ('9', 1),\n",
       " ('1', 1),\n",
       " ('3', 1),\n",
       " ('5', 1),\n",
       " ('8', 1),\n",
       " ('3', 1),\n",
       " ('2', 1),\n",
       " ('6', 1),\n",
       " ('8', 1),\n",
       " ('5', 1),\n",
       " ('9', 1),\n",
       " ('8', 1),\n",
       " ('0', 1),\n",
       " ('0', 1),\n",
       " ('0', 1),\n",
       " ('9', 1),\n",
       " ('2', 1),\n",
       " ('6', 1),\n",
       " ('1', 1),\n",
       " ('1', 1),\n",
       " ('0', 1),\n",
       " ('6', 1),\n",
       " ('4', 1),\n",
       " ('8', 1),\n",
       " ('1', 1),\n",
       " ('2', 1),\n",
       " ('1', 1),\n",
       " ('6', 1),\n",
       " ('7', 1),\n",
       " ('1', 1),\n",
       " ('3', 1),\n",
       " ('8', 1),\n",
       " ('2', 1),\n",
       " ('4', 1),\n",
       " ('1', 1),\n",
       " ('5', 1),\n",
       " ('6', 1),\n",
       " ('2', 1),\n",
       " ('5', 1),\n",
       " ('1', 1),\n",
       " ('7', 1),\n",
       " ('5', 1),\n",
       " ('7', 1),\n",
       " ('6', 1),\n",
       " ('1', 1),\n",
       " ('9', 1),\n",
       " ('6', 1),\n",
       " ('8', 1),\n",
       " ('3', 1),\n",
       " ('2', 1),\n",
       " ('1', 1),\n",
       " ('9', 1),\n",
       " ('5', 1),\n",
       " ('2', 1),\n",
       " ('2', 1),\n",
       " ('4', 1),\n",
       " ('3', 1),\n",
       " ('8', 1),\n",
       " ('9', 1),\n",
       " ('2', 1),\n",
       " ('7', 1),\n",
       " ('0', 1),\n",
       " ('0', 1),\n",
       " ('0', 1),\n",
       " ('2', 1),\n",
       " ('9', 1),\n",
       " ('7', 1),\n",
       " ('9', 1),\n",
       " ('1', 1),\n",
       " ('3', 1),\n",
       " ('2', 1),\n",
       " ('7', 1),\n",
       " ('6', 1),\n",
       " ('8', 1),\n",
       " ('3', 1),\n",
       " ('5', 1),\n",
       " ('9', 1),\n",
       " ('3', 1),\n",
       " ('7', 1),\n",
       " ('3', 1),\n",
       " ('9', 1),\n",
       " ('3', 1),\n",
       " ('0', 1),\n",
       " ('4', 1),\n",
       " ('4', 1),\n",
       " ('2', 1),\n",
       " ('8', 1),\n",
       " ('7', 1),\n",
       " ('5', 1),\n",
       " ('4', 1),\n",
       " ('6', 1),\n",
       " ('6', 1),\n",
       " ('5', 1),\n",
       " ('6', 1),\n",
       " ('5', 1),\n",
       " ('0', 1),\n",
       " ('6', 1),\n",
       " ('5', 1),\n",
       " ('3', 1),\n",
       " ('5', 1),\n",
       " ('4', 1),\n",
       " ('8', 1),\n",
       " ('7', 1),\n",
       " ('2', 1),\n",
       " ('5', 1),\n",
       " ('9', 1),\n",
       " ('3', 1),\n",
       " ('1', 1),\n",
       " ('9', 1),\n",
       " ('6', 1),\n",
       " ('4', 1),\n",
       " ('0', 1),\n",
       " ('0', 1),\n",
       " ('0', 1),\n",
       " ('6', 1),\n",
       " ('8', 1),\n",
       " ('9', 1),\n",
       " ('2', 1),\n",
       " ('1', 1),\n",
       " ('7', 1),\n",
       " ('4', 1),\n",
       " ('0', 1),\n",
       " ('8', 1),\n",
       " ('8', 1),\n",
       " ('7', 1),\n",
       " ('9', 1),\n",
       " ('5', 1),\n",
       " ('0', 1),\n",
       " ('7', 1),\n",
       " ('8', 1),\n",
       " ('5', 1),\n",
       " ('1', 1),\n",
       " ('8', 1),\n",
       " ('4', 1),\n",
       " ('9', 1),\n",
       " ('1', 1),\n",
       " ('1', 1),\n",
       " ('2', 1),\n",
       " ('5', 1),\n",
       " ('9', 1),\n",
       " ('7', 1),\n",
       " ('3', 1),\n",
       " ('3', 1),\n",
       " ('6', 1),\n",
       " ('1', 1),\n",
       " ('0', 1),\n",
       " ('3', 1),\n",
       " ('8', 1),\n",
       " ('2', 1),\n",
       " ('3', 1),\n",
       " ('1', 1),\n",
       " ('1', 1),\n",
       " ('0', 1),\n",
       " ('5', 1),\n",
       " ('9', 1),\n",
       " ('2', 1),\n",
       " ('1', 1),\n",
       " ('1', 1),\n",
       " ('7', 1),\n",
       " ('6', 1),\n",
       " ('4', 1),\n",
       " ('9', 1),\n",
       " ('1', 1),\n",
       " ('2', 1),\n",
       " ('5', 1),\n",
       " ('0', 1),\n",
       " ('0', 1),\n",
       " ('0', 1),\n",
       " ('1', 1),\n",
       " ('3', 1),\n",
       " ('2', 1),\n",
       " ('6', 1),\n",
       " ('5', 1),\n",
       " ('1', 1),\n",
       " ('1', 1),\n",
       " ('4', 1),\n",
       " ('0', 1),\n",
       " ('6', 1),\n",
       " ('0', 1),\n",
       " ('8', 1),\n",
       " ('1', 1),\n",
       " ('4', 1),\n",
       " ('8', 1),\n",
       " ('8', 1),\n",
       " ('7', 1),\n",
       " ('7', 1),\n",
       " ('1', 1),\n",
       " ('5', 1),\n",
       " ('7', 1),\n",
       " ('4', 1),\n",
       " ('6', 1),\n",
       " ('4', 1),\n",
       " ('1', 1),\n",
       " ('6', 1),\n",
       " ('6', 1),\n",
       " ('3', 1),\n",
       " ('7', 1),\n",
       " ('5', 1),\n",
       " ('1', 1),\n",
       " ('7', 1),\n",
       " ('5', 1),\n",
       " ('6', 1),\n",
       " ('1', 1),\n",
       " ('6', 1),\n",
       " ('1', 1),\n",
       " ('8', 1),\n",
       " ('5', 1),\n",
       " ('1', 1),\n",
       " ('9', 1),\n",
       " ('3', 1),\n",
       " ('1', 1),\n",
       " ('9', 1),\n",
       " ('5', 1),\n",
       " ('1', 1),\n",
       " ('1', 1),\n",
       " ('2', 1),\n",
       " ('2', 1),\n",
       " ('0', 1),\n",
       " ('5', 1),\n",
       " ('3', 1),\n",
       " ('7', 1),\n",
       " ('9', 1),\n",
       " ('2', 1),\n",
       " ('1', 1),\n",
       " ('6', 1),\n",
       " ('0', 1),\n",
       " ('0', 1),\n",
       " ('0', 1),\n",
       " ('2', 1),\n",
       " ('2', 1),\n",
       " ('6', 1),\n",
       " ('9', 1),\n",
       " ('8', 1),\n",
       " ('1', 1),\n",
       " ('2', 1),\n",
       " ('3', 1),\n",
       " ('8', 1),\n",
       " ('3', 1),\n",
       " ('2', 1),\n",
       " ('8', 1),\n",
       " ('2', 1),\n",
       " ('5', 1),\n",
       " ('0', 1),\n",
       " ('0', 1),\n",
       " ('4', 1),\n",
       " ('7', 1),\n",
       " ('2', 1),\n",
       " ('6', 1),\n",
       " ('2', 1),\n",
       " ('1', 1),\n",
       " ('4', 1),\n",
       " ('4', 1),\n",
       " ('2', 1),\n",
       " ('7', 1),\n",
       " ('4', 1),\n",
       " ('6', 1),\n",
       " ('2', 1),\n",
       " ('5', 1),\n",
       " ('2', 1),\n",
       " ('8', 1),\n",
       " ('7', 1),\n",
       " ('4', 1),\n",
       " ('9', 1),\n",
       " ('6', 1),\n",
       " ('3', 1),\n",
       " ('0', 1),\n",
       " ('0', 1),\n",
       " ('7', 1),\n",
       " ('6', 1),\n",
       " ('3', 1),\n",
       " ('3', 1),\n",
       " ('1', 1),\n",
       " ('4', 1),\n",
       " ('4', 1),\n",
       " ('3', 1),\n",
       " ('2', 1),\n",
       " ('3', 1),\n",
       " ('2', 1),\n",
       " ('8', 1),\n",
       " ('5', 1),\n",
       " ('0', 1),\n",
       " ('9', 1),\n",
       " ('3', 1),\n",
       " ('4', 1),\n",
       " ('3', 1),\n",
       " ('0', 1),\n",
       " ('0', 1),\n",
       " ('0', 1),\n",
       " ('3', 1),\n",
       " ('5', 1),\n",
       " ('7', 1),\n",
       " ('9', 1),\n",
       " ('1', 1),\n",
       " ('1', 1),\n",
       " ('3', 1),\n",
       " ('7', 1),\n",
       " ('3', 1),\n",
       " ('2', 1),\n",
       " ('4', 1),\n",
       " ('8', 1),\n",
       " ('3', 1),\n",
       " ('8', 1),\n",
       " ('9', 1),\n",
       " ('0', 1),\n",
       " ('1', 1),\n",
       " ('7', 1),\n",
       " ('4', 1),\n",
       " ('0', 1),\n",
       " ('5', 1),\n",
       " ('2', 1),\n",
       " ('2', 1),\n",
       " ('4', 1),\n",
       " ('4', 1),\n",
       " ('2', 1),\n",
       " ('1', 1),\n",
       " ('8', 1),\n",
       " ('7', 1),\n",
       " ('5', 1),\n",
       " ('4', 1),\n",
       " ('3', 1),\n",
       " ('8', 1),\n",
       " ('9', 1),\n",
       " ('7', 1),\n",
       " ('6', 1),\n",
       " ('4', 1),\n",
       " ('5', 1),\n",
       " ('6', 1),\n",
       " ('5', 1),\n",
       " ('3', 1),\n",
       " ('3', 1),\n",
       " ('4', 1),\n",
       " ('7', 1),\n",
       " ('4', 1),\n",
       " ('5', 1),\n",
       " ('5', 1),\n",
       " ('2', 1),\n",
       " ('4', 1),\n",
       " ('9', 1),\n",
       " ('3', 1),\n",
       " ('0', 1),\n",
       " ('3', 1),\n",
       " ('9', 1),\n",
       " ('5', 1),\n",
       " ('1', 1),\n",
       " ('2', 1),\n",
       " ('0', 1),\n",
       " ('0', 1),\n",
       " ('0', 1),\n",
       " ('5', 1),\n",
       " ('3', 1),\n",
       " ('1', 1),\n",
       " ('4', 1),\n",
       " ('4', 1),\n",
       " ('1', 1),\n",
       " ('5', 1),\n",
       " ('5', 1),\n",
       " ('1', 1),\n",
       " ('3', 1),\n",
       " ('6', 1),\n",
       " ('8', 1),\n",
       " ('5', 1),\n",
       " ('7', 1),\n",
       " ('1', 1),\n",
       " ('7', 1),\n",
       " ('8', 1),\n",
       " ('7', 1),\n",
       " ('5', 1),\n",
       " ('9', 1),\n",
       " ('2', 1),\n",
       " ('7', 1),\n",
       " ('0', 1),\n",
       " ('4', 1),\n",
       " ('6', 1),\n",
       " ('1', 1),\n",
       " ('4', 1),\n",
       " ('1', 1),\n",
       " ('2', 1),\n",
       " ('5', 1),\n",
       " ('6', 1),\n",
       " ('3', 1),\n",
       " ('6', 1),\n",
       " ('0', 1),\n",
       " ('5', 1),\n",
       " ('6', 1),\n",
       " ('6', 1),\n",
       " ('5', 1),\n",
       " ('8', 1),\n",
       " ('5', 1),\n",
       " ('0', 1),\n",
       " ('3', 1),\n",
       " ('6', 1),\n",
       " ('8', 1),\n",
       " ('1', 1),\n",
       " ('4', 1),\n",
       " ('7', 1),\n",
       " ('2', 1),\n",
       " ('7', 1),\n",
       " ('0', 1),\n",
       " ('4', 1),\n",
       " ('9', 1),\n",
       " ('6', 1),\n",
       " ('9', 1),\n",
       " ('7', 1),\n",
       " ('2', 1),\n",
       " ('9', 1),\n",
       " ('0', 1),\n",
       " ('0', 1),\n",
       " ('0', 1),\n",
       " ('7', 1),\n",
       " ('5', 1),\n",
       " ('3', 1),\n",
       " ('5', 1),\n",
       " ('7', 1),\n",
       " ('1', 1),\n",
       " ('7', 1),\n",
       " ('7', 1),\n",
       " ('8', 1),\n",
       " ('6', 1),\n",
       " ('8', 1),\n",
       " ('8', 1),\n",
       " ('8', 1),\n",
       " ('0', 1),\n",
       " ('4', 1),\n",
       " ('3', 1),\n",
       " ('5', 1),\n",
       " ('7', 1),\n",
       " ('8', 1),\n",
       " ('3', 1),\n",
       " ('0', 1),\n",
       " ('5', 1),\n",
       " ('8', 1),\n",
       " ('4', 1),\n",
       " ('8', 1),\n",
       " ('5', 1),\n",
       " ('7', 1),\n",
       " ('3', 1),\n",
       " ('7', 1),\n",
       " ('5', 1),\n",
       " ('8', 1),\n",
       " ('8', 1),\n",
       " ('4', 1),\n",
       " ('7', 1),\n",
       " ('3', 1),\n",
       " ('6', 1),\n",
       " ('9', 1),\n",
       " ('1', 1),\n",
       " ('2', 1),\n",
       " ('6', 1),\n",
       " ('7', 1),\n",
       " ('3', 1),\n",
       " ('9', 1),\n",
       " ('4', 1),\n",
       " ('1', 1),\n",
       " ('1', 1),\n",
       " ('9', 1),\n",
       " ('2', 1),\n",
       " ('9', 1),\n",
       " ('7', 1),\n",
       " ('0', 1),\n",
       " ('2', 1),\n",
       " ('9', 1),\n",
       " ('9', 1),\n",
       " ('1', 1),\n",
       " ('0', 1),\n",
       " ('0', 1),\n",
       " ('0', 1),\n",
       " ('0', 1),\n",
       " ('0', 1),\n",
       " ('0', 1),\n",
       " ('1', 1),\n",
       " ('0', 1),\n",
       " ('3', 1),\n",
       " ('0', 1),\n",
       " ('3', 1),\n",
       " ('0', 1),\n",
       " ('1', 1),\n",
       " ('1', 1),\n",
       " ('0', 1),\n",
       " ('6', 1),\n",
       " ('1', 1),\n",
       " ('2', 1),\n",
       " ('0', 1),\n",
       " ('8', 1),\n",
       " ('1', 1),\n",
       " ('0', 1),\n",
       " ('9', 1),\n",
       " ('2', 1),\n",
       " ('7', 1),\n",
       " ('2', 1),\n",
       " ('7', 1),\n",
       " ('1', 1),\n",
       " ('1', 1),\n",
       " ('2', 1),\n",
       " ('4', 1),\n",
       " ('8', 1),\n",
       " ('6', 1),\n",
       " ('4', 1),\n",
       " ('1', 1),\n",
       " ('1', 1),\n",
       " ('5', 1),\n",
       " ('7', 1),\n",
       " ('6', 1),\n",
       " ('2', 1),\n",
       " ('5', 1),\n",
       " ('1', 1),\n",
       " ('1', 1),\n",
       " ('9', 1),\n",
       " ('1', 1),\n",
       " ('0', 1),\n",
       " ('1', 1),\n",
       " ('6', 1),\n",
       " ('1', 1),\n",
       " ('2', 1),\n",
       " ('2', 1),\n",
       " ('5', 1),\n",
       " ('0', 1),\n",
       " ('4', 1),\n",
       " ('3', 1),\n",
       " ('1', 1),\n",
       " ('2', 1),\n",
       " ('5', 1),\n",
       " ('9', 1),\n",
       " ('7', 1),\n",
       " ('1', 1),\n",
       " ('2', 1),\n",
       " ('1', 1),\n",
       " ('2', 1),\n",
       " ('9', 1),\n",
       " ('5', 1),\n",
       " ('0', 1),\n",
       " ('2', 1),\n",
       " ('9', 1),\n",
       " ('1', 1),\n",
       " ('3', 1),\n",
       " ('3', 1),\n",
       " ('1', 1),\n",
       " ('0', 1),\n",
       " ('0', 1),\n",
       " ('0', 1),\n",
       " ('1', 1),\n",
       " ('3', 1),\n",
       " ('6', 1),\n",
       " ('7', 1),\n",
       " ('6', 1),\n",
       " ('3', 1),\n",
       " ('1', 1),\n",
       " ('1', 1),\n",
       " ('4', 1),\n",
       " ('0', 1),\n",
       " ('4', 1),\n",
       " ('9', 1),\n",
       " ('2', 1),\n",
       " ('8', 1),\n",
       " ('1', 1),\n",
       " ('4', 1),\n",
       " ('4', 1),\n",
       " ('2', 1),\n",
       " ('8', 1),\n",
       " ('9', 1),\n",
       " ('7', 1),\n",
       " ('1', 1),\n",
       " ('4', 1),\n",
       " ('8', 1),\n",
       " ('1', 1),\n",
       " ('5', 1),\n",
       " ('4', 1),\n",
       " ('4', 1),\n",
       " ('1', 1),\n",
       " ('5', 1),\n",
       " ('2', 1),\n",
       " ('0', 1),\n",
       " ('8', 1),\n",
       " ('7', 1),\n",
       " ('5', 1),\n",
       " ('1', 1),\n",
       " ('5', 1),\n",
       " ('6', 1),\n",
       " ('0', 1),\n",
       " ('8', 1),\n",
       " ('9', 1),\n",
       " ('6', 1),\n",
       " ('1', 1),\n",
       " ('6', 1),\n",
       " ('0', 1),\n",
       " ('1', 1),\n",
       " ('6', 1),\n",
       " ('1', 1),\n",
       " ('3', 1),\n",
       " ('1', 1),\n",
       " ('6', 1),\n",
       " ('4', 1),\n",
       " ('3', 1),\n",
       " ('0', 1),\n",
       " ('3', 1),\n",
       " ('2', 1),\n",
       " ('1', 1),\n",
       " ('6', 1),\n",
       " ('8', 1),\n",
       " ('5', 1),\n",
       " ('1', 1),\n",
       " ('5', 1),\n",
       " ('9', 1),\n",
       " ('1', 1),\n",
       " ('7', 1),\n",
       " ('2', 1),\n",
       " ('8', 1),\n",
       " ('0', 1),\n",
       " ('0', 1),\n",
       " ('0', 1),\n",
       " ('1', 1),\n",
       " ('7', 1),\n",
       " ('7', 1),\n",
       " ('1', 1),\n",
       " ('5', 1),\n",
       " ('6', 1),\n",
       " ('1', 1),\n",
       " ('1', 1),\n",
       " ('8', 1),\n",
       " ('1', 1),\n",
       " ('5', 1),\n",
       " ('8', 1),\n",
       " ('4', 1),\n",
       " ('8', 1),\n",
       " ('1', 1),\n",
       " ('8', 1),\n",
       " ('6', 1),\n",
       " ('0', 1),\n",
       " ('8', 1),\n",
       " ('6', 1),\n",
       " ('7', 1),\n",
       " ('1', 1),\n",
       " ('9', 1),\n",
       " ('0', 1),\n",
       " ('6', 1),\n",
       " ('6', 1),\n",
       " ('2', 1),\n",
       " ('4', 1),\n",
       " ('1', 1),\n",
       " ('9', 1),\n",
       " ('5', 1),\n",
       " ('3', 1),\n",
       " ('1', 1),\n",
       " ('2', 1),\n",
       " ('5', 1),\n",
       " ('2', 1),\n",
       " ('0', 1),\n",
       " ('0', 1),\n",
       " ('0', 1),\n",
       " ('3', 1),\n",
       " ('7', 1),\n",
       " ('6', 1),\n",
       " ('2', 1),\n",
       " ('0', 1),\n",
       " ('4', 1),\n",
       " ('8', 1),\n",
       " ('3', 1),\n",
       " ('8', 1),\n",
       " ('3', 1),\n",
       " ('2', 1),\n",
       " ('0', 1),\n",
       " ('9', 1),\n",
       " ('7', 1),\n",
       " ('1', 1),\n",
       " ('5', 1),\n",
       " ('2', 1),\n",
       " ('2', 1),\n",
       " ('1', 1),\n",
       " ('4', 1),\n",
       " ('6', 1),\n",
       " ('6', 1),\n",
       " ('8', 1),\n",
       " ('9', 1),\n",
       " ('2', 1),\n",
       " ('1', 1),\n",
       " ('9', 1),\n",
       " ('7', 1),\n",
       " ('0', 1),\n",
       " ('0', 1),\n",
       " ('0', 1),\n",
       " ('2', 1),\n",
       " ('2', 1),\n",
       " ('4', 1),\n",
       " ('8', 1),\n",
       " ('0', 1),\n",
       " ('9', 1),\n",
       " ('1', 1),\n",
       " ('2', 1),\n",
       " ('2', 1),\n",
       " ('9', 1),\n",
       " ('9', 1),\n",
       " ('9', 1),\n",
       " ('6', 1),\n",
       " ('8', 1),\n",
       " ('2', 1),\n",
       " ('3', 1),\n",
       " ('5', 1),\n",
       " ('2', 1),\n",
       " ('6', 1),\n",
       " ('3', 1),\n",
       " ('7', 1),\n",
       " ('2', 1),\n",
       " ('4', 1),\n",
       " ('0', 1),\n",
       " ('6', 1),\n",
       " ('1', 1),\n",
       " ('0', 1),\n",
       " ('4', 1),\n",
       " ('2', 1),\n",
       " ('4', 1),\n",
       " ('6', 1),\n",
       " ('0', 1),\n",
       " ('3', 1),\n",
       " ('7', 1),\n",
       " ('5', 1),\n",
       " ('2', 1),\n",
       " ('5', 1),\n",
       " ('1', 1),\n",
       " ('5', 1),\n",
       " ('4', 1),\n",
       " ('5', 1),\n",
       " ('6', 1),\n",
       " ('2', 1),\n",
       " ('5', 1),\n",
       " ('7', 1),\n",
       " ('1', 1),\n",
       " ('3', 1),\n",
       " ('5', 1),\n",
       " ('3', 1),\n",
       " ('2', 1),\n",
       " ('6', 1),\n",
       " ('2', 1),\n",
       " ('8', 1),\n",
       " ('0', 1),\n",
       " ('7', 1),\n",
       " ('2', 1),\n",
       " ('2', 1),\n",
       " ('6', 1),\n",
       " ('8', 1),\n",
       " ('5', 1),\n",
       " ('6', 1),\n",
       " ('1', 1),\n",
       " ('9', 1),\n",
       " ('2', 1),\n",
       " ('7', 1),\n",
       " ('4', 1),\n",
       " ('4', 1),\n",
       " ('0', 1),\n",
       " ('0', 1),\n",
       " ('0', 1),\n",
       " ('2', 1),\n",
       " ('8', 1),\n",
       " ('0', 1),\n",
       " ('3', 1),\n",
       " ('2', 1),\n",
       " ('2', 1),\n",
       " ('1', 1),\n",
       " ('2', 1),\n",
       " ('8', 1),\n",
       " ('6', 1),\n",
       " ('3', 1),\n",
       " ('2', 1),\n",
       " ('8', 1),\n",
       " ('8', 1),\n",
       " ('2', 1),\n",
       " ('9', 1),\n",
       " ('2', 1),\n",
       " ('4', 1),\n",
       " ('2', 1),\n",
       " ('0', 1),\n",
       " ('7', 1),\n",
       " ('2', 1),\n",
       " ('9', 1),\n",
       " ('8', 1),\n",
       " ('5', 1),\n",
       " ('9', 1),\n",
       " ('8', 1),\n",
       " ('4', 1),\n",
       " ('3', 1),\n",
       " ('0', 1),\n",
       " ('4', 1),\n",
       " ('8', 1),\n",
       " ('6', 1),\n",
       " ('2', 1),\n",
       " ('5', 1),\n",
       " ('3', 1),\n",
       " ('1', 1),\n",
       " ('1', 1),\n",
       " ('2', 1),\n",
       " ('1', 1),\n",
       " ('3', 1),\n",
       " ('6', 1),\n",
       " ('3', 1),\n",
       " ('1', 1),\n",
       " ('7', 1),\n",
       " ('6', 1),\n",
       " ('5', 1),\n",
       " ('2', 1),\n",
       " ('3', 1),\n",
       " ('3', 1),\n",
       " ('2', 1),\n",
       " ('4', 1),\n",
       " ('1', 1),\n",
       " ('7', 1),\n",
       " ('9', 1),\n",
       " ('2', 1),\n",
       " ('3', 1),\n",
       " ('3', 1),\n",
       " ('0', 1),\n",
       " ('7', 1),\n",
       " ('9', 1),\n",
       " ('4', 1),\n",
       " ('9', 1),\n",
       " ('3', 1),\n",
       " ('3', 1),\n",
       " ('7', 1),\n",
       " ('5', 1),\n",
       " ('0', 1),\n",
       " ('0', 1),\n",
       " ('0', 1),\n",
       " ('3', 1),\n",
       " ('4', 1),\n",
       " ('4', 1),\n",
       " ('2', 1),\n",
       " ('9', 1),\n",
       " ('5', 1),\n",
       " ('1', 1),\n",
       " ('3', 1),\n",
       " ('5', 1),\n",
       " ('1', 1),\n",
       " ('1', 1),\n",
       " ('8', 1),\n",
       " ('0', 1),\n",
       " ('8', 1),\n",
       " ('3', 1),\n",
       " ('5', 1),\n",
       " ('8', 1),\n",
       " ('1', 1),\n",
       " ('5', 1),\n",
       " ('7', 1),\n",
       " ('7', 1),\n",
       " ('3', 1),\n",
       " ('6', 1),\n",
       " ('5', 1),\n",
       " ('2', 1),\n",
       " ('2', 1),\n",
       " ('6', 1),\n",
       " ('4', 1),\n",
       " ('3', 1),\n",
       " ('7', 1),\n",
       " ('2', 1),\n",
       " ('3', 1),\n",
       " ('8', 1),\n",
       " ('7', 1),\n",
       " ('5', 1),\n",
       " ('3', 1),\n",
       " ('7', 1),\n",
       " ('9', 1),\n",
       " ('6', 1),\n",
       " ('4', 1),\n",
       " ('1', 1),\n",
       " ('6', 1),\n",
       " ('3', 1),\n",
       " ('8', 1),\n",
       " ('6', 1),\n",
       " ('9', 1),\n",
       " ('8', 1),\n",
       " ('9', 1),\n",
       " ('3', 1),\n",
       " ('3', 1),\n",
       " ('9', 1),\n",
       " ('4', 1),\n",
       " ('4', 1),\n",
       " ('3', 1),\n",
       " ('1', 1),\n",
       " ('2', 1),\n",
       " ('4', 1),\n",
       " ('0', 1),\n",
       " ('1', 1),\n",
       " ('9', 1),\n",
       " ('6', 1),\n",
       " ('7', 1),\n",
       " ('9', 1),\n",
       " ('4', 1),\n",
       " ('0', 1),\n",
       " ('9', 1),\n",
       " ('6', 1),\n",
       " ('0', 1),\n",
       " ('0', 1),\n",
       " ('0', 1),\n",
       " ('4', 1),\n",
       " ('1', 1),\n",
       " ('7', 1),\n",
       " ('3', 1),\n",
       " ('2', 1),\n",
       " ('8', 1),\n",
       " ('1', 1),\n",
       " ('4', 1),\n",
       " ('2', 1),\n",
       " ('5', 1),\n",
       " ('1', 1),\n",
       " ('5', 1),\n",
       " ('2', 1),\n",
       " ('8', 1),\n",
       " ('4', 1),\n",
       " ('3', 1),\n",
       " ('3', 1),\n",
       " ('0', 1),\n",
       " ('7', 1),\n",
       " ('4', 1),\n",
       " ('7', 1),\n",
       " ('4', 1),\n",
       " ('4', 1),\n",
       " ('1', 1),\n",
       " ('0', 1),\n",
       " ('9', 1),\n",
       " ('4', 1),\n",
       " ('4', 1),\n",
       " ('4', 1),\n",
       " ('4', 1),\n",
       " ('9', 1),\n",
       " ('2', 1),\n",
       " ('1', 1),\n",
       " ('2', 1),\n",
       " ('5', 1),\n",
       " ('4', 1),\n",
       " ('5', 1),\n",
       " ('7', 1),\n",
       " ('4', 1),\n",
       " ('2', 1),\n",
       " ('9', 1),\n",
       " ('6', 1),\n",
       " ('4', 1),\n",
       " ('6', 1),\n",
       " ('5', 1),\n",
       " ('7', 1),\n",
       " ('4', 1),\n",
       " ('6', 1),\n",
       " ('3', 1),\n",
       " ('4', 1),\n",
       " ('7', 1),\n",
       " ('4', 1),\n",
       " ('1', 1),\n",
       " ('6', 1),\n",
       " ('3', 1),\n",
       " ('2', 1),\n",
       " ('4', 1),\n",
       " ('8', 1),\n",
       " ('2', 1),\n",
       " ('6', 1),\n",
       " ...]"
      ]
     },
     "execution_count": 10,
     "metadata": {},
     "output_type": "execute_result"
    }
   ],
   "source": [
    "rddc.flatMap(lambda x : [(e,1) for e in str(x)]).collect()"
   ]
  },
  {
   "cell_type": "markdown",
   "metadata": {},
   "source": [
    "## 3. Approximating $\\pi$\n",
    "\n",
    "To compute the value of $\\pi$, you will generate the list of all pairs $(x,y)$ of integers from 0 to K. Then you will compute the number of such pairs such that $(2x+1)^2+(2y+1)^2$ is less then $(2*K)^2$. The ratio between the number of such pairs and the number of total pairs is an approximation of $\\pi$. For $K=3000$ you should obtain a value close to 3.14159.\n",
    "\n",
    "### 3.1 Step 1 : computing set of pairs\n"
   ]
  },
  {
   "cell_type": "markdown",
   "metadata": {},
   "source": [
    "### 3.2 Step 2 : counting the pairs"
   ]
  },
  {
   "cell_type": "markdown",
   "metadata": {},
   "source": [
    "### 3.3 Step 3 : counting the approximaton"
   ]
  },
  {
   "cell_type": "code",
   "execution_count": 11,
   "metadata": {
    "scrolled": true
   },
   "outputs": [
    {
     "name": "stdout",
     "output_type": "stream",
     "text": [
      "3.1415933333333332\n",
      "7068585\n"
     ]
    }
   ],
   "source": [
    "K=3000\n",
    "intUpToK = sc.parallelize(range(K))\n",
    "pairs = intUpToK.cartesian(intUpToK)\n",
    "nbTotal = pairs.count()\n",
    "\n",
    "def isOk(v):\n",
    "    x,y = v\n",
    "    return (2*x+1)**2+(2*y+1)**2 <= 4*K*K\n",
    "\n",
    "nbOk = pairs.filter(isOk).count()\n",
    "print(4*float(nbOk)/nbTotal)\n",
    "print(nbOk)"
   ]
  },
  {
   "cell_type": "markdown",
   "metadata": {},
   "source": [
    "## 4. Using the Movie Lens dataset\n",
    "### 4.1 Getting the dataset\n",
    "The dataset is in the ***ml-latest-small*** folder.\n",
    "### 4.2 Getting the dataset into an RDD\n",
    "To read the dataset we can use the following code :"
   ]
  },
  {
   "cell_type": "code",
   "execution_count": 40,
   "metadata": {},
   "outputs": [],
   "source": [
    "import re\n",
    "\n",
    "path_data = \"/home/p5hngk/Downloads/GitHub/SD_701---Data_Mining/ml-latest-small\""
   ]
  },
  {
   "cell_type": "code",
   "execution_count": 44,
   "metadata": {},
   "outputs": [
    {
     "data": {
      "text/plain": [
       "['movieId,title,genres',\n",
       " '1,Toy Story (1995),Adventure|Animation|Children|Comedy|Fantasy',\n",
       " '2,Jumanji (1995),Adventure|Children|Fantasy',\n",
       " '3,Grumpier Old Men (1995),Comedy|Romance',\n",
       " '4,Waiting to Exhale (1995),Comedy|Drama|Romance']"
      ]
     },
     "execution_count": 44,
     "metadata": {},
     "output_type": "execute_result"
    }
   ],
   "source": [
    "ratingsFile = sc.textFile(path_data+\"/ratings.csv\")\n",
    "moviesFile = sc.textFile(path_data+\"/movies.csv\")\n",
    "moviesFile.take(5)"
   ]
  },
  {
   "cell_type": "code",
   "execution_count": 45,
   "metadata": {},
   "outputs": [
    {
     "data": {
      "text/plain": [
       "['userId,movieId,rating,timestamp',\n",
       " '1,1,4.0,964982703',\n",
       " '1,3,4.0,964981247',\n",
       " '1,6,4.0,964982224',\n",
       " '1,47,5.0,964983815']"
      ]
     },
     "execution_count": 45,
     "metadata": {},
     "output_type": "execute_result"
    }
   ],
   "source": [
    "ratingsFile.take(5)"
   ]
  },
  {
   "cell_type": "markdown",
   "metadata": {},
   "source": [
    "### 4.3 Cleaning data\n",
    "We're going to clean the data with the `parseCSV` function that we can define like this :"
   ]
  },
  {
   "cell_type": "code",
   "execution_count": 51,
   "metadata": {},
   "outputs": [],
   "source": [
    "future_pattern = re.compile(\"\"\"([^,\"]+|\"[^\"]+\")(?=,|$)\"\"\")\n",
    "\n",
    "def parseCSV(line): \n",
    "     return future_pattern.findall(line)"
   ]
  },
  {
   "cell_type": "markdown",
   "metadata": {},
   "source": [
    "So we can now use this function to clean our datas :"
   ]
  },
  {
   "cell_type": "code",
   "execution_count": 52,
   "metadata": {},
   "outputs": [
    {
     "data": {
      "text/plain": [
       "[['1', '1', '4.0', '964982703'],\n",
       " ['1', '3', '4.0', '964981247'],\n",
       " ['1', '6', '4.0', '964982224'],\n",
       " ['1', '47', '5.0', '964983815'],\n",
       " ['1', '50', '5.0', '964982931']]"
      ]
     },
     "execution_count": 52,
     "metadata": {},
     "output_type": "execute_result"
    }
   ],
   "source": [
    "ratings = ratingsFile.map(parseCSV).filter(lambda x: x[0]!=\"userId\") #on enlève la première ligne pour faciliter les calculs\n",
    "ratings.take(5)"
   ]
  },
  {
   "cell_type": "code",
   "execution_count": 55,
   "metadata": {},
   "outputs": [
    {
     "data": {
      "text/plain": [
       "[['1', 'Toy Story (1995)', 'Adventure|Animation|Children|Comedy|Fantasy'],\n",
       " ['2', 'Jumanji (1995)', 'Adventure|Children|Fantasy'],\n",
       " ['3', 'Grumpier Old Men (1995)', 'Comedy|Romance'],\n",
       " ['4', 'Waiting to Exhale (1995)', 'Comedy|Drama|Romance'],\n",
       " ['5', 'Father of the Bride Part II (1995)', 'Comedy']]"
      ]
     },
     "execution_count": 55,
     "metadata": {},
     "output_type": "execute_result"
    }
   ],
   "source": [
    "movies = moviesFile.map(parseCSV).filter(lambda x : x[0]!=\"movieId\") #on enlève la première ligne\n",
    "movies.take(5)"
   ]
  },
  {
   "cell_type": "markdown",
   "metadata": {},
   "source": [
    "### 4.4 Compute the 10 best rated movies of all times\n",
    "We want now to compute the 10 movies that have the best average rating by using `sortBy` and `take`.                      \n",
    "\n",
    "We will first compute the average in the simplest way, that is : \n",
    "<center>\n",
    "$\\frac{sum(ratings)}{numberOfRatings}$\n",
    "</center>"
   ]
  },
  {
   "cell_type": "code",
   "execution_count": 86,
   "metadata": {},
   "outputs": [
    {
     "data": {
      "text/plain": [
       "[('1', (843.0, 215)),\n",
       " ('50', (864.5, 204)),\n",
       " ('70', (193.0, 55)),\n",
       " ('110', (955.5, 237)),\n",
       " ('157', (31.5, 11))]"
      ]
     },
     "execution_count": 86,
     "metadata": {},
     "output_type": "execute_result"
    }
   ],
   "source": [
    "ratedMovie = ratings.map(lambda x : (x[1],(float(x[2]),1))).reduceByKey(lambda x,y : (x[0]+y[0],x[1]+y[1]))\n",
    "ratedMovie.take(5)"
   ]
  },
  {
   "cell_type": "code",
   "execution_count": 101,
   "metadata": {},
   "outputs": [
    {
     "data": {
      "text/plain": [
       "[('6835', 5.0),\n",
       " ('1151', 5.0),\n",
       " ('1631', 5.0),\n",
       " ('102217', 5.0),\n",
       " ('27523', 5.0),\n",
       " ('53', 5.0),\n",
       " ('1140', 5.0),\n",
       " ('8238', 5.0),\n",
       " ('47736', 5.0),\n",
       " ('53355', 5.0)]"
      ]
     },
     "execution_count": 101,
     "metadata": {},
     "output_type": "execute_result"
    }
   ],
   "source": [
    "ratedMovie1 = ratedMovie.mapValues(lambda x: x[0]/x[1]).sortBy(lambda x : x[1], ascending=False)\n",
    "ratedMovie1.take(10)"
   ]
  },
  {
   "cell_type": "markdown",
   "metadata": {},
   "source": [
    "So we have here the top 10 ***movieId*** with the ***average rating***. Let's try to give the ***title*** for each ***movieId***.\n",
    "\n",
    "### 4.5 Ordered list of movies with names"
   ]
  },
  {
   "cell_type": "code",
   "execution_count": 98,
   "metadata": {},
   "outputs": [
    {
     "data": {
      "text/plain": [
       "[('1', 'Toy Story (1995)'),\n",
       " ('2', 'Jumanji (1995)'),\n",
       " ('3', 'Grumpier Old Men (1995)'),\n",
       " ('4', 'Waiting to Exhale (1995)'),\n",
       " ('5', 'Father of the Bride Part II (1995)')]"
      ]
     },
     "execution_count": 98,
     "metadata": {},
     "output_type": "execute_result"
    }
   ],
   "source": [
    "movieJoin = movies.map(lambda x: (x[0], x[1]))\n",
    "movieJoin.take(5)"
   ]
  },
  {
   "cell_type": "code",
   "execution_count": 91,
   "metadata": {},
   "outputs": [
    {
     "data": {
      "text/plain": [
       "[('4', ('Waiting to Exhale (1995)', 2.357142857142857)),\n",
       " ('10', ('GoldenEye (1995)', 3.496212121212121)),\n",
       " ('12', ('Dracula: Dead and Loving It (1995)', 2.4210526315789473)),\n",
       " ('16', ('Casino (1995)', 3.926829268292683)),\n",
       " ('20', ('Money Train (1995)', 2.5))]"
      ]
     },
     "execution_count": 91,
     "metadata": {},
     "output_type": "execute_result"
    }
   ],
   "source": [
    "movieWithAvg1 = movieJoin.join(ratedMovie1)\n",
    "movieWithAvg1.take(5)"
   ]
  },
  {
   "cell_type": "code",
   "execution_count": 92,
   "metadata": {},
   "outputs": [
    {
     "data": {
      "text/plain": [
       "[('Waiting to Exhale (1995)', 2.357142857142857),\n",
       " ('GoldenEye (1995)', 3.496212121212121),\n",
       " ('Dracula: Dead and Loving It (1995)', 2.4210526315789473),\n",
       " ('Casino (1995)', 3.926829268292683),\n",
       " ('Money Train (1995)', 2.5)]"
      ]
     },
     "execution_count": 92,
     "metadata": {},
     "output_type": "execute_result"
    }
   ],
   "source": [
    "movieWithAvg1 = movieWithAvg1.map(lambda x : x[1])\n",
    "movieWithAvg1.take(5)"
   ]
  },
  {
   "cell_type": "code",
   "execution_count": 93,
   "metadata": {},
   "outputs": [
    {
     "data": {
      "text/plain": [
       "[('Lamerica (1994)', 5.0),\n",
       " ('What Happened Was... (1994)', 5.0),\n",
       " ('Denise Calls Up (1995)', 5.0),\n",
       " ('Lesson Faust (1994)', 5.0),\n",
       " ('\"Sandpiper, The (1965)\"', 5.0),\n",
       " ('My Man Godfrey (1957)', 5.0),\n",
       " ('Black Tar Heroin: The Dark End of the Street (2000)', 5.0),\n",
       " ('Slumber Party Massacre II (1987)', 5.0),\n",
       " ('Moscow Does Not Believe in Tears (Moskva slezam ne verit) (1979)', 5.0),\n",
       " ('Cherish (2002)', 5.0)]"
      ]
     },
     "execution_count": 93,
     "metadata": {},
     "output_type": "execute_result"
    }
   ],
   "source": [
    "top10Movies1 = movieWithAvg1.sortBy(lambda x : x[1], ascending=False).take(10)\n",
    "top10Movies1"
   ]
  },
  {
   "cell_type": "markdown",
   "metadata": {},
   "source": [
    "We can here understand that many movies have a five stars average. So **the rule we have used to compute de average rating is not so good**. \n",
    "\n",
    "### 4.6 Better ordered list\n",
    "Let's try to compute it in an other way : \n",
    "<center>\n",
    "$\\frac{sum(ratings)}{1+numberOfRatings}$\n",
    "</center>\n",
    "\n",
    "In this way, we decided to put one 0 vote to every movies."
   ]
  },
  {
   "cell_type": "code",
   "execution_count": 99,
   "metadata": {},
   "outputs": [
    {
     "data": {
      "text/plain": [
       "[('\"Shawshank Redemption, The (1994)\"', 4.415094339622642),\n",
       " ('\"Godfather, The (1972)\"', 4.266839378238342),\n",
       " ('\"Streetcar Named Desire, A (1951)\"', 4.261904761904762),\n",
       " ('Fight Club (1999)', 4.2534246575342465),\n",
       " ('\"Godfather: Part II, The (1974)\"', 4.226923076923077),\n",
       " ('Dr. Strangelove or: How I Learned to Stop Worrying and Love the Bomb (1964)',\n",
       "  4.224489795918367),\n",
       " ('\"Three Billboards Outside Ebbing, Missouri (2017)\"', 4.222222222222222),\n",
       " ('\"Usual Suspects, The (1995)\"', 4.217073170731707),\n",
       " ('Goodfellas (1990)', 4.216535433070866),\n",
       " ('Star Wars: Episode IV - A New Hope (1977)', 4.214285714285714)]"
      ]
     },
     "execution_count": 99,
     "metadata": {},
     "output_type": "execute_result"
    }
   ],
   "source": [
    "ratedMovie2 = ratedMovie.mapValues(lambda x: (x[0])/(1+x[1]))\n",
    "\n",
    "movieWithAvg2 = movieJoin.join(ratedMovie2).map(lambda x: x[1])\n",
    "\n",
    "top10movies2 = movieWithAvg2.sortBy(lambda x: x[1], ascending=False).take(10)\n",
    "top10movies2"
   ]
  },
  {
   "cell_type": "markdown",
   "metadata": {},
   "source": [
    "The second rule is a little bit better, but we can improve the model by using a new rule. The idea is to put a weight for movies that have a great number of rating compared to those wo haven't many ratings : \n",
    "<center>\n",
    "$\\frac{sum(ratings)}{1+numberOfRatings}.log(numberOfRatings)$\n",
    "</center>"
   ]
  },
  {
   "cell_type": "code",
   "execution_count": 100,
   "metadata": {},
   "outputs": [
    {
     "data": {
      "text/plain": [
       "[('\"Shawshank Redemption, The (1994)\"', 25.506303124680446),\n",
       " ('Forrest Gump (1994)', 24.135559630846686),\n",
       " ('Pulp Fiction (1994)', 24.035971735394476),\n",
       " ('\"Matrix, The (1999)\"', 23.593497870526754),\n",
       " ('\"Silence of the Lambs, The (1991)\"', 23.43310709209536),\n",
       " ('Star Wars: Episode IV - A New Hope (1977)', 23.37860964684444),\n",
       " ('Fight Club (1999)', 23.007601610036865),\n",
       " (\"Schindler's List (1993)\", 22.788076383338726),\n",
       " ('Star Wars: Episode V - The Empire Strikes Back (1980)', 22.561506207236786),\n",
       " ('\"Godfather, The (1972)\"', 22.549726244087907)]"
      ]
     },
     "execution_count": 100,
     "metadata": {},
     "output_type": "execute_result"
    }
   ],
   "source": [
    "import math\n",
    "\n",
    "ratedMovie3 = ratedMovie.mapValues(lambda x: (x[0]/x[1])*math.log(x[1]))\n",
    "\n",
    "movieWithAvg3 = movieJoin.join(ratedMovie3).map(lambda x: x[1])\n",
    "\n",
    "top10movies3 = movieWithAvg3.sortBy(lambda x: x[1], ascending=False).take(10)\n",
    "top10movies3"
   ]
  },
  {
   "cell_type": "markdown",
   "metadata": {},
   "source": [
    "## 5. Movie recommendation\n",
    "\n",
    "Our goal here is to make recommandation for **userId number 1**.  \n",
    "\n",
    "To start with movie recommendation we're going to compute the set of movies that user 1 rated."
   ]
  },
  {
   "cell_type": "code",
   "execution_count": null,
   "metadata": {},
   "outputs": [],
   "source": [
    "moviesUser1 = "
   ]
  }
 ],
 "metadata": {
  "kernelspec": {
   "display_name": "Python 3",
   "language": "python",
   "name": "python3"
  },
  "language_info": {
   "codemirror_mode": {
    "name": "ipython",
    "version": 3
   },
   "file_extension": ".py",
   "mimetype": "text/x-python",
   "name": "python",
   "nbconvert_exporter": "python",
   "pygments_lexer": "ipython3",
   "version": "3.7.4"
  }
 },
 "nbformat": 4,
 "nbformat_minor": 4
}
